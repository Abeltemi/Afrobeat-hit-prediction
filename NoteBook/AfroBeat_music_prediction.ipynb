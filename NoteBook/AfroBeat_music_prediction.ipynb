{
 "cells": [
  {
   "cell_type": "markdown",
   "id": "6f4b9354-67a5-413e-9b90-b4da34b11b6d",
   "metadata": {},
   "source": [
    "SETTING UP THE NECESSARY DEPENDENCIES"
   ]
  },
  {
   "cell_type": "code",
   "execution_count": 78,
   "id": "687ff727-1b46-4146-867f-cf53c20a1358",
   "metadata": {},
   "outputs": [],
   "source": [
    "import pandas as pd\n",
    "import numpy as np\n",
    "import matplotlib.pyplot as plt\n",
    "import seaborn as sns\n",
    "\n",
    "from sklearn.model_selection import train_test_split\n",
    "from sklearn.preprocessing import StandardScaler\n",
    "from sklearn.ensemble import RandomForestClassifier, IsolationForest\n",
    "\n",
    "from sklearn.linear_model import LogisticRegression\n",
    "from sklearn.neighbors import KNeighborsClassifier\n",
    "from sklearn.neural_network import MLPClassifier\n",
    "from sklearn.tree import DecisionTreeClassifier\n",
    "from sklearn.svm import LinearSVC, SVC\n",
    "from sklearn.metrics import accuracy_score\n",
    "\n",
    "from sklearn.ensemble import RandomForestClassifier, GradientBoostingClassifier\n",
    "import warnings\n",
    "warnings.filterwarnings(action='ignore')"
   ]
  },
  {
   "cell_type": "code",
   "execution_count": 79,
   "id": "790bcdda-f956-4292-9a10-ee2d09625731",
   "metadata": {},
   "outputs": [],
   "source": [
    "# IMPORTING THE DATASET\n",
    "total_datasets = pd.read_csv('combined_datasets2.csv')"
   ]
  },
  {
   "cell_type": "code",
   "execution_count": 80,
   "id": "51efd3a7-fe0b-4ca4-8b7e-3449e4b00b2b",
   "metadata": {},
   "outputs": [
    {
     "data": {
      "text/html": [
       "<div>\n",
       "<style scoped>\n",
       "    .dataframe tbody tr th:only-of-type {\n",
       "        vertical-align: middle;\n",
       "    }\n",
       "\n",
       "    .dataframe tbody tr th {\n",
       "        vertical-align: top;\n",
       "    }\n",
       "\n",
       "    .dataframe thead th {\n",
       "        text-align: right;\n",
       "    }\n",
       "</style>\n",
       "<table border=\"1\" class=\"dataframe\">\n",
       "  <thead>\n",
       "    <tr style=\"text-align: right;\">\n",
       "      <th></th>\n",
       "      <th>Unnamed: 0.1</th>\n",
       "      <th>track_id</th>\n",
       "      <th>track_name</th>\n",
       "      <th>artist_name</th>\n",
       "      <th>popularity</th>\n",
       "      <th>danceability</th>\n",
       "      <th>energy</th>\n",
       "      <th>tempo</th>\n",
       "      <th>valence</th>\n",
       "      <th>acousticness</th>\n",
       "      <th>liveness</th>\n",
       "      <th>loudness</th>\n",
       "      <th>uri</th>\n",
       "      <th>duration_ms</th>\n",
       "      <th>instrumentalness</th>\n",
       "      <th>key</th>\n",
       "      <th>mode</th>\n",
       "      <th>speechiness</th>\n",
       "      <th>time_signature</th>\n",
       "      <th>Unnamed: 0</th>\n",
       "    </tr>\n",
       "  </thead>\n",
       "  <tbody>\n",
       "    <tr>\n",
       "      <th>2945</th>\n",
       "      <td>2945</td>\n",
       "      <td>6N8rRKxeJYiyJfu2GVsJSG</td>\n",
       "      <td>Outlaw</td>\n",
       "      <td>Victony</td>\n",
       "      <td>44</td>\n",
       "      <td>0.589</td>\n",
       "      <td>0.447</td>\n",
       "      <td>115.238</td>\n",
       "      <td>0.419</td>\n",
       "      <td>0.6720</td>\n",
       "      <td>0.1020</td>\n",
       "      <td>-7.768</td>\n",
       "      <td>spotify:track:6N8rRKxeJYiyJfu2GVsJSG</td>\n",
       "      <td>197000</td>\n",
       "      <td>0.000010</td>\n",
       "      <td>10</td>\n",
       "      <td>0</td>\n",
       "      <td>0.3520</td>\n",
       "      <td>5</td>\n",
       "      <td>2552.0</td>\n",
       "    </tr>\n",
       "    <tr>\n",
       "      <th>2946</th>\n",
       "      <td>2946</td>\n",
       "      <td>4gMXTO4f8hCe6jVhujwpUd</td>\n",
       "      <td>Ole</td>\n",
       "      <td>Tiwa Savage</td>\n",
       "      <td>31</td>\n",
       "      <td>0.800</td>\n",
       "      <td>0.801</td>\n",
       "      <td>99.936</td>\n",
       "      <td>0.684</td>\n",
       "      <td>0.5920</td>\n",
       "      <td>0.5600</td>\n",
       "      <td>-6.315</td>\n",
       "      <td>spotify:track:4gMXTO4f8hCe6jVhujwpUd</td>\n",
       "      <td>183653</td>\n",
       "      <td>0.000055</td>\n",
       "      <td>6</td>\n",
       "      <td>1</td>\n",
       "      <td>0.2140</td>\n",
       "      <td>4</td>\n",
       "      <td>2553.0</td>\n",
       "    </tr>\n",
       "    <tr>\n",
       "      <th>2947</th>\n",
       "      <td>2947</td>\n",
       "      <td>2th2KOiIausYBrbWpQMjOM</td>\n",
       "      <td>Bombay</td>\n",
       "      <td>Tiwa Savage</td>\n",
       "      <td>28</td>\n",
       "      <td>0.725</td>\n",
       "      <td>0.679</td>\n",
       "      <td>121.053</td>\n",
       "      <td>0.656</td>\n",
       "      <td>0.1230</td>\n",
       "      <td>0.2450</td>\n",
       "      <td>-5.323</td>\n",
       "      <td>spotify:track:2th2KOiIausYBrbWpQMjOM</td>\n",
       "      <td>163960</td>\n",
       "      <td>0.000029</td>\n",
       "      <td>2</td>\n",
       "      <td>1</td>\n",
       "      <td>0.3320</td>\n",
       "      <td>5</td>\n",
       "      <td>2554.0</td>\n",
       "    </tr>\n",
       "    <tr>\n",
       "      <th>2948</th>\n",
       "      <td>2948</td>\n",
       "      <td>0mDRuZmReEm6DquPLJlcEm</td>\n",
       "      <td>Oleku (feat. Brymo)</td>\n",
       "      <td>Ice Prince</td>\n",
       "      <td>45</td>\n",
       "      <td>0.544</td>\n",
       "      <td>0.730</td>\n",
       "      <td>162.112</td>\n",
       "      <td>0.751</td>\n",
       "      <td>0.3440</td>\n",
       "      <td>0.1400</td>\n",
       "      <td>-4.299</td>\n",
       "      <td>spotify:track:0mDRuZmReEm6DquPLJlcEm</td>\n",
       "      <td>291364</td>\n",
       "      <td>0.000001</td>\n",
       "      <td>1</td>\n",
       "      <td>0</td>\n",
       "      <td>0.1440</td>\n",
       "      <td>5</td>\n",
       "      <td>2555.0</td>\n",
       "    </tr>\n",
       "    <tr>\n",
       "      <th>2949</th>\n",
       "      <td>2949</td>\n",
       "      <td>6p0M9uwUKqn0ApceP3TkBy</td>\n",
       "      <td>Single &amp; Searching</td>\n",
       "      <td>Yemi Alade</td>\n",
       "      <td>34</td>\n",
       "      <td>0.804</td>\n",
       "      <td>0.837</td>\n",
       "      <td>125.007</td>\n",
       "      <td>0.735</td>\n",
       "      <td>0.0548</td>\n",
       "      <td>0.0535</td>\n",
       "      <td>-5.122</td>\n",
       "      <td>spotify:track:6p0M9uwUKqn0ApceP3TkBy</td>\n",
       "      <td>219330</td>\n",
       "      <td>0.002170</td>\n",
       "      <td>6</td>\n",
       "      <td>0</td>\n",
       "      <td>0.0592</td>\n",
       "      <td>4</td>\n",
       "      <td>2556.0</td>\n",
       "    </tr>\n",
       "  </tbody>\n",
       "</table>\n",
       "</div>"
      ],
      "text/plain": [
       "      Unnamed: 0.1                track_id           track_name  artist_name  \\\n",
       "2945          2945  6N8rRKxeJYiyJfu2GVsJSG               Outlaw      Victony   \n",
       "2946          2946  4gMXTO4f8hCe6jVhujwpUd                  Ole  Tiwa Savage   \n",
       "2947          2947  2th2KOiIausYBrbWpQMjOM               Bombay  Tiwa Savage   \n",
       "2948          2948  0mDRuZmReEm6DquPLJlcEm  Oleku (feat. Brymo)   Ice Prince   \n",
       "2949          2949  6p0M9uwUKqn0ApceP3TkBy   Single & Searching   Yemi Alade   \n",
       "\n",
       "      popularity  danceability  energy    tempo  valence  acousticness  \\\n",
       "2945          44         0.589   0.447  115.238    0.419        0.6720   \n",
       "2946          31         0.800   0.801   99.936    0.684        0.5920   \n",
       "2947          28         0.725   0.679  121.053    0.656        0.1230   \n",
       "2948          45         0.544   0.730  162.112    0.751        0.3440   \n",
       "2949          34         0.804   0.837  125.007    0.735        0.0548   \n",
       "\n",
       "      liveness  loudness                                   uri  duration_ms  \\\n",
       "2945    0.1020    -7.768  spotify:track:6N8rRKxeJYiyJfu2GVsJSG       197000   \n",
       "2946    0.5600    -6.315  spotify:track:4gMXTO4f8hCe6jVhujwpUd       183653   \n",
       "2947    0.2450    -5.323  spotify:track:2th2KOiIausYBrbWpQMjOM       163960   \n",
       "2948    0.1400    -4.299  spotify:track:0mDRuZmReEm6DquPLJlcEm       291364   \n",
       "2949    0.0535    -5.122  spotify:track:6p0M9uwUKqn0ApceP3TkBy       219330   \n",
       "\n",
       "      instrumentalness  key  mode  speechiness  time_signature  Unnamed: 0  \n",
       "2945          0.000010   10     0       0.3520               5      2552.0  \n",
       "2946          0.000055    6     1       0.2140               4      2553.0  \n",
       "2947          0.000029    2     1       0.3320               5      2554.0  \n",
       "2948          0.000001    1     0       0.1440               5      2555.0  \n",
       "2949          0.002170    6     0       0.0592               4      2556.0  "
      ]
     },
     "execution_count": 80,
     "metadata": {},
     "output_type": "execute_result"
    }
   ],
   "source": [
    "#This shows the last five datapoints from the dataset\n",
    "total_datasets.tail()"
   ]
  },
  {
   "cell_type": "code",
   "execution_count": 81,
   "id": "34ba78a4-580a-48f9-9fc6-19c3e21ab9e8",
   "metadata": {},
   "outputs": [
    {
     "name": "stdout",
     "output_type": "stream",
     "text": [
      "(2950, 20)\n"
     ]
    }
   ],
   "source": [
    "print(total_datasets.shape) # Checking the shape of the data\n",
    "\n",
    "datasets = total_datasets.copy()"
   ]
  },
  {
   "cell_type": "code",
   "execution_count": 82,
   "id": "bebd6215-406e-4e63-a3a9-28a1ed2c5fab",
   "metadata": {},
   "outputs": [],
   "source": [
    "# Droping unwanted columns \n",
    "datasets = datasets.drop(['track_id', 'track_name', 'artist_name', 'uri', 'Unnamed: 0.1', 'Unnamed: 0'], axis=1)"
   ]
  },
  {
   "cell_type": "code",
   "execution_count": 83,
   "id": "2cd58b05-35eb-49f0-9031-b831bb22ca0e",
   "metadata": {},
   "outputs": [],
   "source": [
    "# Creating another column called hit and setting values to popularity greater than 65 as 1 while less as 0\n",
    "# 1 implies that the song is a hit while 0 implies it is not\n",
    "datasets['hit'] = datasets['popularity'].apply(lambda x: 1 if x > 65 else 0)"
   ]
  },
  {
   "cell_type": "code",
   "execution_count": 84,
   "id": "bebc4e5f-fab8-4df6-880e-263b710440c3",
   "metadata": {},
   "outputs": [],
   "source": [
    "# dict(datasets['popularity'].value_counts())"
   ]
  },
  {
   "cell_type": "code",
   "execution_count": 85,
   "id": "fe4abf81-daf4-441d-a1a0-29ab019a0b76",
   "metadata": {},
   "outputs": [
    {
     "data": {
      "text/plain": [
       "0    2719\n",
       "1     231\n",
       "Name: hit, dtype: int64"
      ]
     },
     "execution_count": 85,
     "metadata": {},
     "output_type": "execute_result"
    }
   ],
   "source": [
    "datasets.hit.value_counts() # Checking the value counts in the hit column.... this gives how many values of zeros and ones"
   ]
  },
  {
   "cell_type": "code",
   "execution_count": 86,
   "id": "48dfab85-abe9-4a8d-aff6-3af1d4952413",
   "metadata": {},
   "outputs": [
    {
     "name": "stderr",
     "output_type": "stream",
     "text": [
      "No artists with labels found to put in legend.  Note that artists whose label start with an underscore are ignored when legend() is called with no argument.\n"
     ]
    },
    {
     "data": {
      "text/plain": [
       "<matplotlib.legend.Legend at 0x1557c6b0430>"
      ]
     },
     "execution_count": 86,
     "metadata": {},
     "output_type": "execute_result"
    },
    {
     "data": {
      "image/png": "[encoded data removed]",
      "text/plain": [
       "<Figure size 640x480 with 1 Axes>"
      ]
     },
     "metadata": {},
     "output_type": "display_data"
    }
   ],
   "source": [
    "# ploting the value counts\n",
    "import seaborn as sns\n",
    "\n",
    "ax = sns.countplot(x='hit', data=datasets, palette='viridis')\n",
    "ax.set_xticklabels(['Non-Hit', 'Hit'])\n",
    "\n",
    "plt.xlabel('Categories')\n",
    "plt.ylabel('Count')\n",
    "plt.title('Imbalance Visualization')\n",
    "\n",
    "#Adding legend\n",
    "\n",
    "plt.legend()"
   ]
  },
  {
   "cell_type": "markdown",
   "id": "af16771f-8f3c-45a8-bc3d-901ff706ef1c",
   "metadata": {},
   "source": [
    "### EXPLORATORY DATA ANALYSIS"
   ]
  },
  {
   "cell_type": "code",
   "execution_count": 87,
   "id": "ac82c209-037d-4b4a-afd2-5250e760d350",
   "metadata": {},
   "outputs": [
    {
     "data": {
      "text/plain": [
       "\"\\nThe result is plotted. you can see that the plot is in upward direction, also observer the line that cut through the dots (which are the datapoints) all are in one direction.\\nThis shows that there is a very high positive correlation between loudness and energy. \\nIf the energy increases, the loudness of the song increases and similarly, if the song's loudness decreases, the energy of the track also decreases.\\n\""
      ]
     },
     "execution_count": 87,
     "metadata": {},
     "output_type": "execute_result"
    },
    {
     "data": {
      "image/png": "[encoded data removed]",
      "text/plain": [
       "<Figure size 700x600 with 1 Axes>"
      ]
     },
     "metadata": {},
     "output_type": "display_data"
    }
   ],
   "source": [
    "## Create a Regression Plot Between Loudness and Energy. Let’s Plot It  in the Form of a Regression Line.\n",
    "plt.figure(figsize=(7, 6))\n",
    "sns.regplot(data=datasets, y=\"loudness\", x=\"energy\", color='c').set(title=\"Loudness vs Energy Correlation\")\n",
    "\n",
    "\"\"\"\n",
    "The result is plotted. you can see that the plot is in upward direction, also observer the line that cut through the dots (which are the datapoints) all are in one direction.\n",
    "This shows that there is a very high positive correlation between loudness and energy. \n",
    "If the energy increases, the loudness of the song increases and similarly, if the song's loudness decreases, the energy of the track also decreases.\n",
    "\"\"\""
   ]
  },
  {
   "cell_type": "markdown",
   "id": "755e70c4-0872-446d-95b5-5de01041aa35",
   "metadata": {},
   "source": [
    "## we can also plot between the correlation between the popularity and the instrumentalness"
   ]
  },
  {
   "cell_type": "code",
   "execution_count": 88,
   "id": "a55b18d2-d6d3-49c9-bf62-f0f586e9e1c2",
   "metadata": {},
   "outputs": [
    {
     "data": {
      "text/plain": [
       "'\\nHere, you can see the red color regression line is in downward direction, \\nwhich denotes if the instrumentalness of the song increases, the popularity decreases and similarly, \\nif the popularity increases, the instrumentalness decreases.\\n'"
      ]
     },
     "execution_count": 88,
     "metadata": {},
     "output_type": "execute_result"
    },
    {
     "data": {
      "image/png": "[encoded data removed]",
      "text/plain": [
       "<Figure size 700x600 with 1 Axes>"
      ]
     },
     "metadata": {},
     "output_type": "display_data"
    }
   ],
   "source": [
    "plt.figure(figsize=(7, 6))\n",
    "sns.regplot(data=datasets, y=\"popularity\", x=\"instrumentalness\", color='r').set(title=\"popularity vs instrumentalness Correlation\")\n",
    "\n",
    "\"\"\"\n",
    "Here, you can see the red color regression line is in downward direction, \n",
    "which denotes if the instrumentalness of the song increases, the popularity decreases and similarly, \n",
    "if the popularity increases, the instrumentalness decreases.\n",
    "\"\"\""
   ]
  },
  {
   "cell_type": "code",
   "execution_count": 89,
   "id": "e0dea4c1-db14-427a-8395-33eba6b408c2",
   "metadata": {},
   "outputs": [
    {
     "data": {
      "text/plain": [
       "'\\nAfter running the piece of code, we got our correlation map. On the right side, you can see a scale ranging from -1 to +1. \\nHere -1 denotes the variables that have the least or negative correlation, \\nwhile the values above 0.0 denote the variables with a positive correlation. \\n'"
      ]
     },
     "execution_count": 89,
     "metadata": {},
     "output_type": "execute_result"
    },
    {
     "data": {
      "image/png": "[encoded data removed]",
      "text/plain": [
       "<Figure size 1400x600 with 2 Axes>"
      ]
     },
     "metadata": {},
     "output_type": "display_data"
    }
   ],
   "source": [
    "plt.figure(figsize=(14, 6))\n",
    "sns.heatmap(datasets.corr(),annot = True, vmin=-1, vmax=1, center=0, linewidth=1)\n",
    "\n",
    "\"\"\"\n",
    "After running the piece of code, we got our correlation map. On the right side, you can see a scale ranging from -1 to +1. \n",
    "Here -1 denotes the variables that have the least or negative correlation, \n",
    "while the values above 0.0 denote the variables with a positive correlation. \n",
    "\"\"\""
   ]
  },
  {
   "cell_type": "code",
   "execution_count": 90,
   "id": "84637245-c9af-4524-8f72-38cf00c0f122",
   "metadata": {},
   "outputs": [],
   "source": [
    "# Having seen the value counts, there arise a need to handle imbalance in the dataset as seen\n",
    "\n",
    "from imblearn.over_sampling import SMOTE\n",
    "\n",
    "# Resampling the minority class. The strategy can be changed as required.\n",
    "sm = SMOTE(sampling_strategy='minority', random_state=42)\n",
    "\n",
    "# Fit the model to generate the data.\n",
    "oversampled_X, oversampled_Y = sm.fit_resample(datasets.drop('hit', axis=1), datasets['hit'])\n",
    "new_datasets = pd.concat([pd.DataFrame(oversampled_Y), pd.DataFrame(oversampled_X)], axis=1)"
   ]
  },
  {
   "cell_type": "code",
   "execution_count": 91,
   "id": "ec1cc5c8-6fd1-4a99-a2ba-c29d27d418b4",
   "metadata": {},
   "outputs": [
    {
     "data": {
      "text/plain": [
       "1    2719\n",
       "0    2719\n",
       "Name: hit, dtype: int64"
      ]
     },
     "execution_count": 91,
     "metadata": {},
     "output_type": "execute_result"
    }
   ],
   "source": [
    "new_datasets['hit'].value_counts()"
   ]
  },
  {
   "cell_type": "code",
   "execution_count": 94,
   "id": "5332df7b-95e2-4777-8229-c298a2efc58e",
   "metadata": {},
   "outputs": [
    {
     "data": {
      "text/html": [
       "<div>\n",
       "<style scoped>\n",
       "    .dataframe tbody tr th:only-of-type {\n",
       "        vertical-align: middle;\n",
       "    }\n",
       "\n",
       "    .dataframe tbody tr th {\n",
       "        vertical-align: top;\n",
       "    }\n",
       "\n",
       "    .dataframe thead th {\n",
       "        text-align: right;\n",
       "    }\n",
       "</style>\n",
       "<table border=\"1\" class=\"dataframe\">\n",
       "  <thead>\n",
       "    <tr style=\"text-align: right;\">\n",
       "      <th></th>\n",
       "      <th>hit</th>\n",
       "      <th>popularity</th>\n",
       "      <th>danceability</th>\n",
       "      <th>energy</th>\n",
       "      <th>tempo</th>\n",
       "      <th>valence</th>\n",
       "      <th>acousticness</th>\n",
       "      <th>liveness</th>\n",
       "      <th>loudness</th>\n",
       "      <th>duration_ms</th>\n",
       "      <th>instrumentalness</th>\n",
       "      <th>key</th>\n",
       "      <th>mode</th>\n",
       "      <th>speechiness</th>\n",
       "      <th>time_signature</th>\n",
       "    </tr>\n",
       "  </thead>\n",
       "  <tbody>\n",
       "    <tr>\n",
       "      <th>5433</th>\n",
       "      <td>1</td>\n",
       "      <td>68</td>\n",
       "      <td>0.914000</td>\n",
       "      <td>0.505000</td>\n",
       "      <td>102.937000</td>\n",
       "      <td>0.540000</td>\n",
       "      <td>0.227000</td>\n",
       "      <td>0.132000</td>\n",
       "      <td>-6.770000</td>\n",
       "      <td>176453</td>\n",
       "      <td>0.000003</td>\n",
       "      <td>9</td>\n",
       "      <td>0</td>\n",
       "      <td>0.310000</td>\n",
       "      <td>4</td>\n",
       "    </tr>\n",
       "    <tr>\n",
       "      <th>5434</th>\n",
       "      <td>1</td>\n",
       "      <td>70</td>\n",
       "      <td>0.734385</td>\n",
       "      <td>0.637558</td>\n",
       "      <td>105.574919</td>\n",
       "      <td>0.610252</td>\n",
       "      <td>0.333351</td>\n",
       "      <td>0.147056</td>\n",
       "      <td>-8.243613</td>\n",
       "      <td>147708</td>\n",
       "      <td>0.054382</td>\n",
       "      <td>6</td>\n",
       "      <td>0</td>\n",
       "      <td>0.220211</td>\n",
       "      <td>4</td>\n",
       "    </tr>\n",
       "    <tr>\n",
       "      <th>5435</th>\n",
       "      <td>1</td>\n",
       "      <td>69</td>\n",
       "      <td>0.797531</td>\n",
       "      <td>0.661275</td>\n",
       "      <td>101.284046</td>\n",
       "      <td>0.840382</td>\n",
       "      <td>0.475652</td>\n",
       "      <td>0.096834</td>\n",
       "      <td>-7.105896</td>\n",
       "      <td>158229</td>\n",
       "      <td>0.000039</td>\n",
       "      <td>9</td>\n",
       "      <td>0</td>\n",
       "      <td>0.129287</td>\n",
       "      <td>4</td>\n",
       "    </tr>\n",
       "    <tr>\n",
       "      <th>5436</th>\n",
       "      <td>1</td>\n",
       "      <td>76</td>\n",
       "      <td>0.830839</td>\n",
       "      <td>0.716382</td>\n",
       "      <td>112.892020</td>\n",
       "      <td>0.687325</td>\n",
       "      <td>0.108897</td>\n",
       "      <td>0.100132</td>\n",
       "      <td>-6.512995</td>\n",
       "      <td>212900</td>\n",
       "      <td>0.000960</td>\n",
       "      <td>9</td>\n",
       "      <td>0</td>\n",
       "      <td>0.043070</td>\n",
       "      <td>4</td>\n",
       "    </tr>\n",
       "    <tr>\n",
       "      <th>5437</th>\n",
       "      <td>1</td>\n",
       "      <td>68</td>\n",
       "      <td>0.729005</td>\n",
       "      <td>0.685372</td>\n",
       "      <td>103.351233</td>\n",
       "      <td>0.620179</td>\n",
       "      <td>0.332932</td>\n",
       "      <td>0.146543</td>\n",
       "      <td>-7.727853</td>\n",
       "      <td>179152</td>\n",
       "      <td>0.000332</td>\n",
       "      <td>3</td>\n",
       "      <td>0</td>\n",
       "      <td>0.090435</td>\n",
       "      <td>4</td>\n",
       "    </tr>\n",
       "  </tbody>\n",
       "</table>\n",
       "</div>"
      ],
      "text/plain": [
       "      hit  popularity  danceability    energy       tempo   valence  \\\n",
       "5433    1          68      0.914000  0.505000  102.937000  0.540000   \n",
       "5434    1          70      0.734385  0.637558  105.574919  0.610252   \n",
       "5435    1          69      0.797531  0.661275  101.284046  0.840382   \n",
       "5436    1          76      0.830839  0.716382  112.892020  0.687325   \n",
       "5437    1          68      0.729005  0.685372  103.351233  0.620179   \n",
       "\n",
       "      acousticness  liveness  loudness  duration_ms  instrumentalness  key  \\\n",
       "5433      0.227000  0.132000 -6.770000       176453          0.000003    9   \n",
       "5434      0.333351  0.147056 -8.243613       147708          0.054382    6   \n",
       "5435      0.475652  0.096834 -7.105896       158229          0.000039    9   \n",
       "5436      0.108897  0.100132 -6.512995       212900          0.000960    9   \n",
       "5437      0.332932  0.146543 -7.727853       179152          0.000332    3   \n",
       "\n",
       "      mode  speechiness  time_signature  \n",
       "5433     0     0.310000               4  \n",
       "5434     0     0.220211               4  \n",
       "5435     0     0.129287               4  \n",
       "5436     0     0.043070               4  \n",
       "5437     0     0.090435               4  "
      ]
     },
     "execution_count": 94,
     "metadata": {},
     "output_type": "execute_result"
    }
   ],
   "source": [
    "new_datasets.tail()"
   ]
  },
  {
   "cell_type": "code",
   "execution_count": 95,
   "id": "d52895a9-d0f6-4604-8c1e-4f4dcb26bec6",
   "metadata": {},
   "outputs": [
    {
     "data": {
      "text/html": [
       "<div>\n",
       "<style scoped>\n",
       "    .dataframe tbody tr th:only-of-type {\n",
       "        vertical-align: middle;\n",
       "    }\n",
       "\n",
       "    .dataframe tbody tr th {\n",
       "        vertical-align: top;\n",
       "    }\n",
       "\n",
       "    .dataframe thead th {\n",
       "        text-align: right;\n",
       "    }\n",
       "</style>\n",
       "<table border=\"1\" class=\"dataframe\">\n",
       "  <thead>\n",
       "    <tr style=\"text-align: right;\">\n",
       "      <th></th>\n",
       "      <th>hit</th>\n",
       "      <th>popularity</th>\n",
       "      <th>danceability</th>\n",
       "      <th>energy</th>\n",
       "      <th>tempo</th>\n",
       "      <th>valence</th>\n",
       "      <th>acousticness</th>\n",
       "      <th>liveness</th>\n",
       "      <th>loudness</th>\n",
       "      <th>duration_ms</th>\n",
       "      <th>instrumentalness</th>\n",
       "      <th>key</th>\n",
       "      <th>mode</th>\n",
       "      <th>speechiness</th>\n",
       "      <th>time_signature</th>\n",
       "    </tr>\n",
       "  </thead>\n",
       "  <tbody>\n",
       "    <tr>\n",
       "      <th>5433</th>\n",
       "      <td>1</td>\n",
       "      <td>68</td>\n",
       "      <td>0.914000</td>\n",
       "      <td>0.505000</td>\n",
       "      <td>102.937000</td>\n",
       "      <td>0.540000</td>\n",
       "      <td>0.227000</td>\n",
       "      <td>0.132000</td>\n",
       "      <td>-6.770000</td>\n",
       "      <td>176453</td>\n",
       "      <td>0.000003</td>\n",
       "      <td>9</td>\n",
       "      <td>0</td>\n",
       "      <td>0.310000</td>\n",
       "      <td>4</td>\n",
       "    </tr>\n",
       "    <tr>\n",
       "      <th>5434</th>\n",
       "      <td>1</td>\n",
       "      <td>70</td>\n",
       "      <td>0.734385</td>\n",
       "      <td>0.637558</td>\n",
       "      <td>105.574919</td>\n",
       "      <td>0.610252</td>\n",
       "      <td>0.333351</td>\n",
       "      <td>0.147056</td>\n",
       "      <td>-8.243613</td>\n",
       "      <td>147708</td>\n",
       "      <td>0.054382</td>\n",
       "      <td>6</td>\n",
       "      <td>0</td>\n",
       "      <td>0.220211</td>\n",
       "      <td>4</td>\n",
       "    </tr>\n",
       "    <tr>\n",
       "      <th>5435</th>\n",
       "      <td>1</td>\n",
       "      <td>69</td>\n",
       "      <td>0.797531</td>\n",
       "      <td>0.661275</td>\n",
       "      <td>101.284046</td>\n",
       "      <td>0.840382</td>\n",
       "      <td>0.475652</td>\n",
       "      <td>0.096834</td>\n",
       "      <td>-7.105896</td>\n",
       "      <td>158229</td>\n",
       "      <td>0.000039</td>\n",
       "      <td>9</td>\n",
       "      <td>0</td>\n",
       "      <td>0.129287</td>\n",
       "      <td>4</td>\n",
       "    </tr>\n",
       "    <tr>\n",
       "      <th>5436</th>\n",
       "      <td>1</td>\n",
       "      <td>76</td>\n",
       "      <td>0.830839</td>\n",
       "      <td>0.716382</td>\n",
       "      <td>112.892020</td>\n",
       "      <td>0.687325</td>\n",
       "      <td>0.108897</td>\n",
       "      <td>0.100132</td>\n",
       "      <td>-6.512995</td>\n",
       "      <td>212900</td>\n",
       "      <td>0.000960</td>\n",
       "      <td>9</td>\n",
       "      <td>0</td>\n",
       "      <td>0.043070</td>\n",
       "      <td>4</td>\n",
       "    </tr>\n",
       "    <tr>\n",
       "      <th>5437</th>\n",
       "      <td>1</td>\n",
       "      <td>68</td>\n",
       "      <td>0.729005</td>\n",
       "      <td>0.685372</td>\n",
       "      <td>103.351233</td>\n",
       "      <td>0.620179</td>\n",
       "      <td>0.332932</td>\n",
       "      <td>0.146543</td>\n",
       "      <td>-7.727853</td>\n",
       "      <td>179152</td>\n",
       "      <td>0.000332</td>\n",
       "      <td>3</td>\n",
       "      <td>0</td>\n",
       "      <td>0.090435</td>\n",
       "      <td>4</td>\n",
       "    </tr>\n",
       "  </tbody>\n",
       "</table>\n",
       "</div>"
      ],
      "text/plain": [
       "      hit  popularity  danceability    energy       tempo   valence  \\\n",
       "5433    1          68      0.914000  0.505000  102.937000  0.540000   \n",
       "5434    1          70      0.734385  0.637558  105.574919  0.610252   \n",
       "5435    1          69      0.797531  0.661275  101.284046  0.840382   \n",
       "5436    1          76      0.830839  0.716382  112.892020  0.687325   \n",
       "5437    1          68      0.729005  0.685372  103.351233  0.620179   \n",
       "\n",
       "      acousticness  liveness  loudness  duration_ms  instrumentalness  key  \\\n",
       "5433      0.227000  0.132000 -6.770000       176453          0.000003    9   \n",
       "5434      0.333351  0.147056 -8.243613       147708          0.054382    6   \n",
       "5435      0.475652  0.096834 -7.105896       158229          0.000039    9   \n",
       "5436      0.108897  0.100132 -6.512995       212900          0.000960    9   \n",
       "5437      0.332932  0.146543 -7.727853       179152          0.000332    3   \n",
       "\n",
       "      mode  speechiness  time_signature  \n",
       "5433     0     0.310000               4  \n",
       "5434     0     0.220211               4  \n",
       "5435     0     0.129287               4  \n",
       "5436     0     0.043070               4  \n",
       "5437     0     0.090435               4  "
      ]
     },
     "execution_count": 95,
     "metadata": {},
     "output_type": "execute_result"
    }
   ],
   "source": [
    "new_datasets.tail()"
   ]
  },
  {
   "cell_type": "code",
   "execution_count": 96,
   "id": "6775e77c-4ea0-4856-99ad-9593df14699d",
   "metadata": {},
   "outputs": [
    {
     "data": {
      "text/plain": [
       "(5438, 15)"
      ]
     },
     "execution_count": 96,
     "metadata": {},
     "output_type": "execute_result"
    }
   ],
   "source": [
    "new_datasets.shape"
   ]
  },
  {
   "cell_type": "code",
   "execution_count": 97,
   "id": "73ee78f9-1303-4f0f-bf91-01ed522c8fdc",
   "metadata": {},
   "outputs": [
    {
     "name": "stderr",
     "output_type": "stream",
     "text": [
      "No artists with labels found to put in legend.  Note that artists whose label start with an underscore are ignored when legend() is called with no argument.\n"
     ]
    },
    {
     "data": {
      "text/plain": [
       "<matplotlib.legend.Legend at 0x155076f3670>"
      ]
     },
     "execution_count": 97,
     "metadata": {},
     "output_type": "execute_result"
    },
    {
     "data": {
      "image/png": "[encoded data removed]",
      "text/plain": [
       "<Figure size 640x480 with 1 Axes>"
      ]
     },
     "metadata": {},
     "output_type": "display_data"
    }
   ],
   "source": [
    "ax = sns.countplot(x='hit', data=new_datasets, palette='viridis')\n",
    "ax.set_xticklabels(['Non-Hit', 'Hit'])\n",
    "\n",
    "plt.xlabel('Categories')\n",
    "plt.ylabel('Count')\n",
    "plt.title('balance dataset Visualization')\n",
    "\n",
    "#Adding legend\n",
    "\n",
    "plt.legend()"
   ]
  },
  {
   "cell_type": "code",
   "execution_count": null,
   "id": "b6abff34-4403-4d08-a9ee-767033f39be7",
   "metadata": {},
   "outputs": [],
   "source": [
    "new_datasets.tail()"
   ]
  },
  {
   "cell_type": "code",
   "execution_count": 24,
   "id": "568441ed-5f93-4351-b395-6b59ec00d149",
   "metadata": {},
   "outputs": [
    {
     "data": {
      "text/plain": [
       "1    2719\n",
       "0    2719\n",
       "Name: hit, dtype: int64"
      ]
     },
     "execution_count": 24,
     "metadata": {},
     "output_type": "execute_result"
    }
   ],
   "source": [
    "new_datasets['hit'].value_counts()"
   ]
  },
  {
   "cell_type": "code",
   "execution_count": 25,
   "id": "bc5297d3-fc0f-4829-b73d-ab6210a60f6b",
   "metadata": {},
   "outputs": [
    {
     "data": {
      "text/html": [
       "<div>\n",
       "<style scoped>\n",
       "    .dataframe tbody tr th:only-of-type {\n",
       "        vertical-align: middle;\n",
       "    }\n",
       "\n",
       "    .dataframe tbody tr th {\n",
       "        vertical-align: top;\n",
       "    }\n",
       "\n",
       "    .dataframe thead th {\n",
       "        text-align: right;\n",
       "    }\n",
       "</style>\n",
       "<table border=\"1\" class=\"dataframe\">\n",
       "  <thead>\n",
       "    <tr style=\"text-align: right;\">\n",
       "      <th></th>\n",
       "      <th>hit</th>\n",
       "      <th>popularity</th>\n",
       "      <th>danceability</th>\n",
       "      <th>energy</th>\n",
       "      <th>tempo</th>\n",
       "      <th>valence</th>\n",
       "      <th>acousticness</th>\n",
       "      <th>liveness</th>\n",
       "      <th>loudness</th>\n",
       "      <th>duration_ms</th>\n",
       "      <th>instrumentalness</th>\n",
       "      <th>key</th>\n",
       "      <th>mode</th>\n",
       "      <th>speechiness</th>\n",
       "      <th>time_signature</th>\n",
       "    </tr>\n",
       "  </thead>\n",
       "  <tbody>\n",
       "    <tr>\n",
       "      <th>count</th>\n",
       "      <td>5438.000000</td>\n",
       "      <td>5438.000000</td>\n",
       "      <td>5438.000000</td>\n",
       "      <td>5438.000000</td>\n",
       "      <td>5438.000000</td>\n",
       "      <td>5438.000000</td>\n",
       "      <td>5438.000000</td>\n",
       "      <td>5438.000000</td>\n",
       "      <td>5438.000000</td>\n",
       "      <td>5438.000000</td>\n",
       "      <td>5438.000000</td>\n",
       "      <td>5438.000000</td>\n",
       "      <td>5438.000000</td>\n",
       "      <td>5438.000000</td>\n",
       "      <td>5438.000000</td>\n",
       "    </tr>\n",
       "    <tr>\n",
       "      <th>mean</th>\n",
       "      <td>0.500000</td>\n",
       "      <td>54.770872</td>\n",
       "      <td>0.744372</td>\n",
       "      <td>0.651631</td>\n",
       "      <td>114.762814</td>\n",
       "      <td>0.645076</td>\n",
       "      <td>0.268567</td>\n",
       "      <td>0.147475</td>\n",
       "      <td>-7.135820</td>\n",
       "      <td>199330.045605</td>\n",
       "      <td>0.077140</td>\n",
       "      <td>5.221221</td>\n",
       "      <td>0.354174</td>\n",
       "      <td>0.127476</td>\n",
       "      <td>4.006804</td>\n",
       "    </tr>\n",
       "    <tr>\n",
       "      <th>std</th>\n",
       "      <td>0.500046</td>\n",
       "      <td>21.027044</td>\n",
       "      <td>0.109866</td>\n",
       "      <td>0.134752</td>\n",
       "      <td>24.409722</td>\n",
       "      <td>0.181096</td>\n",
       "      <td>0.203871</td>\n",
       "      <td>0.103715</td>\n",
       "      <td>2.324561</td>\n",
       "      <td>63334.557479</td>\n",
       "      <td>0.209397</td>\n",
       "      <td>3.246845</td>\n",
       "      <td>0.478306</td>\n",
       "      <td>0.093299</td>\n",
       "      <td>0.259719</td>\n",
       "    </tr>\n",
       "    <tr>\n",
       "      <th>min</th>\n",
       "      <td>0.000000</td>\n",
       "      <td>0.000000</td>\n",
       "      <td>0.285000</td>\n",
       "      <td>0.090800</td>\n",
       "      <td>33.116000</td>\n",
       "      <td>0.036100</td>\n",
       "      <td>0.000007</td>\n",
       "      <td>0.019600</td>\n",
       "      <td>-22.157000</td>\n",
       "      <td>35893.000000</td>\n",
       "      <td>0.000000</td>\n",
       "      <td>0.000000</td>\n",
       "      <td>0.000000</td>\n",
       "      <td>0.023900</td>\n",
       "      <td>1.000000</td>\n",
       "    </tr>\n",
       "    <tr>\n",
       "      <th>25%</th>\n",
       "      <td>0.000000</td>\n",
       "      <td>42.000000</td>\n",
       "      <td>0.679000</td>\n",
       "      <td>0.568222</td>\n",
       "      <td>100.876203</td>\n",
       "      <td>0.540000</td>\n",
       "      <td>0.104000</td>\n",
       "      <td>0.093010</td>\n",
       "      <td>-8.082076</td>\n",
       "      <td>163392.500000</td>\n",
       "      <td>0.000007</td>\n",
       "      <td>2.000000</td>\n",
       "      <td>0.000000</td>\n",
       "      <td>0.058524</td>\n",
       "      <td>4.000000</td>\n",
       "    </tr>\n",
       "    <tr>\n",
       "      <th>50%</th>\n",
       "      <td>0.500000</td>\n",
       "      <td>65.500000</td>\n",
       "      <td>0.765000</td>\n",
       "      <td>0.659000</td>\n",
       "      <td>109.212863</td>\n",
       "      <td>0.660920</td>\n",
       "      <td>0.226000</td>\n",
       "      <td>0.112140</td>\n",
       "      <td>-6.854000</td>\n",
       "      <td>187111.000000</td>\n",
       "      <td>0.000347</td>\n",
       "      <td>5.000000</td>\n",
       "      <td>0.000000</td>\n",
       "      <td>0.094800</td>\n",
       "      <td>4.000000</td>\n",
       "    </tr>\n",
       "    <tr>\n",
       "      <th>75%</th>\n",
       "      <td>1.000000</td>\n",
       "      <td>70.000000</td>\n",
       "      <td>0.821126</td>\n",
       "      <td>0.744000</td>\n",
       "      <td>119.754547</td>\n",
       "      <td>0.780292</td>\n",
       "      <td>0.395594</td>\n",
       "      <td>0.159000</td>\n",
       "      <td>-5.679000</td>\n",
       "      <td>216702.250000</td>\n",
       "      <td>0.012791</td>\n",
       "      <td>8.000000</td>\n",
       "      <td>1.000000</td>\n",
       "      <td>0.168144</td>\n",
       "      <td>4.000000</td>\n",
       "    </tr>\n",
       "    <tr>\n",
       "      <th>max</th>\n",
       "      <td>1.000000</td>\n",
       "      <td>94.000000</td>\n",
       "      <td>0.978000</td>\n",
       "      <td>0.995000</td>\n",
       "      <td>217.969000</td>\n",
       "      <td>0.981000</td>\n",
       "      <td>0.973000</td>\n",
       "      <td>0.988000</td>\n",
       "      <td>0.078000</td>\n",
       "      <td>941360.000000</td>\n",
       "      <td>0.979000</td>\n",
       "      <td>11.000000</td>\n",
       "      <td>1.000000</td>\n",
       "      <td>0.880000</td>\n",
       "      <td>5.000000</td>\n",
       "    </tr>\n",
       "  </tbody>\n",
       "</table>\n",
       "</div>"
      ],
      "text/plain": [
       "               hit   popularity  danceability       energy        tempo  \\\n",
       "count  5438.000000  5438.000000   5438.000000  5438.000000  5438.000000   \n",
       "mean      0.500000    54.770872      0.744372     0.651631   114.762814   \n",
       "std       0.500046    21.027044      0.109866     0.134752    24.409722   \n",
       "min       0.000000     0.000000      0.285000     0.090800    33.116000   \n",
       "25%       0.000000    42.000000      0.679000     0.568222   100.876203   \n",
       "50%       0.500000    65.500000      0.765000     0.659000   109.212863   \n",
       "75%       1.000000    70.000000      0.821126     0.744000   119.754547   \n",
       "max       1.000000    94.000000      0.978000     0.995000   217.969000   \n",
       "\n",
       "           valence  acousticness     liveness     loudness    duration_ms  \\\n",
       "count  5438.000000   5438.000000  5438.000000  5438.000000    5438.000000   \n",
       "mean      0.645076      0.268567     0.147475    -7.135820  199330.045605   \n",
       "std       0.181096      0.203871     0.103715     2.324561   63334.557479   \n",
       "min       0.036100      0.000007     0.019600   -22.157000   35893.000000   \n",
       "25%       0.540000      0.104000     0.093010    -8.082076  163392.500000   \n",
       "50%       0.660920      0.226000     0.112140    -6.854000  187111.000000   \n",
       "75%       0.780292      0.395594     0.159000    -5.679000  216702.250000   \n",
       "max       0.981000      0.973000     0.988000     0.078000  941360.000000   \n",
       "\n",
       "       instrumentalness          key         mode  speechiness  time_signature  \n",
       "count       5438.000000  5438.000000  5438.000000  5438.000000     5438.000000  \n",
       "mean           0.077140     5.221221     0.354174     0.127476        4.006804  \n",
       "std            0.209397     3.246845     0.478306     0.093299        0.259719  \n",
       "min            0.000000     0.000000     0.000000     0.023900        1.000000  \n",
       "25%            0.000007     2.000000     0.000000     0.058524        4.000000  \n",
       "50%            0.000347     5.000000     0.000000     0.094800        4.000000  \n",
       "75%            0.012791     8.000000     1.000000     0.168144        4.000000  \n",
       "max            0.979000    11.000000     1.000000     0.880000        5.000000  "
      ]
     },
     "execution_count": 25,
     "metadata": {},
     "output_type": "execute_result"
    }
   ],
   "source": [
    "new_datasets.describe()"
   ]
  },
  {
   "cell_type": "code",
   "execution_count": 26,
   "id": "f3a2e913-063f-442e-90da-4be38edbc7d2",
   "metadata": {},
   "outputs": [
    {
     "name": "stdout",
     "output_type": "stream",
     "text": [
      "1    2719\n",
      "0    2719\n",
      "Name: hit, dtype: int64\n"
     ]
    }
   ],
   "source": [
    "datasets = new_datasets.drop('popularity', axis=1)\n",
    "\n",
    "print(datasets['hit'].value_counts())"
   ]
  },
  {
   "cell_type": "code",
   "execution_count": null,
   "id": "ef2df471-f35e-4e4c-9140-dfd5675cef4a",
   "metadata": {},
   "outputs": [],
   "source": [
    "ax = sns.countplot(x='hit', data=datasets, palette='viridis')\n",
    "ax.set_xticklabels(['Non-Hit', 'Hit'])\n",
    "\n",
    "plt.xlabel('Categories')\n",
    "plt.ylabel('Count')\n",
    "plt.title('Balanced Data Visualization')\n",
    "\n",
    "#Adding legend\n",
    "\n",
    "plt.legend()"
   ]
  },
  {
   "cell_type": "code",
   "execution_count": 28,
   "id": "6cdbbf5f-b27a-428c-9920-7b72cb9ed197",
   "metadata": {},
   "outputs": [
    {
     "data": {
      "text/html": [
       "<div>\n",
       "<style scoped>\n",
       "    .dataframe tbody tr th:only-of-type {\n",
       "        vertical-align: middle;\n",
       "    }\n",
       "\n",
       "    .dataframe tbody tr th {\n",
       "        vertical-align: top;\n",
       "    }\n",
       "\n",
       "    .dataframe thead th {\n",
       "        text-align: right;\n",
       "    }\n",
       "</style>\n",
       "<table border=\"1\" class=\"dataframe\">\n",
       "  <thead>\n",
       "    <tr style=\"text-align: right;\">\n",
       "      <th></th>\n",
       "      <th>hit</th>\n",
       "      <th>danceability</th>\n",
       "      <th>energy</th>\n",
       "      <th>tempo</th>\n",
       "      <th>valence</th>\n",
       "      <th>acousticness</th>\n",
       "      <th>liveness</th>\n",
       "      <th>loudness</th>\n",
       "      <th>duration_ms</th>\n",
       "      <th>instrumentalness</th>\n",
       "      <th>key</th>\n",
       "      <th>mode</th>\n",
       "      <th>speechiness</th>\n",
       "      <th>time_signature</th>\n",
       "    </tr>\n",
       "  </thead>\n",
       "  <tbody>\n",
       "    <tr>\n",
       "      <th>0</th>\n",
       "      <td>1</td>\n",
       "      <td>0.729</td>\n",
       "      <td>0.675</td>\n",
       "      <td>119.968</td>\n",
       "      <td>0.779</td>\n",
       "      <td>0.1750</td>\n",
       "      <td>0.5500</td>\n",
       "      <td>-6.003</td>\n",
       "      <td>245867</td>\n",
       "      <td>0.000002</td>\n",
       "      <td>8</td>\n",
       "      <td>1</td>\n",
       "      <td>0.0312</td>\n",
       "      <td>4</td>\n",
       "    </tr>\n",
       "    <tr>\n",
       "      <th>1</th>\n",
       "      <td>1</td>\n",
       "      <td>0.829</td>\n",
       "      <td>0.878</td>\n",
       "      <td>87.991</td>\n",
       "      <td>0.883</td>\n",
       "      <td>0.0959</td>\n",
       "      <td>0.7760</td>\n",
       "      <td>-5.951</td>\n",
       "      <td>239307</td>\n",
       "      <td>0.000000</td>\n",
       "      <td>9</td>\n",
       "      <td>1</td>\n",
       "      <td>0.1010</td>\n",
       "      <td>4</td>\n",
       "    </tr>\n",
       "    <tr>\n",
       "      <th>2</th>\n",
       "      <td>1</td>\n",
       "      <td>0.463</td>\n",
       "      <td>0.382</td>\n",
       "      <td>74.573</td>\n",
       "      <td>0.638</td>\n",
       "      <td>0.8970</td>\n",
       "      <td>0.1080</td>\n",
       "      <td>-11.682</td>\n",
       "      <td>209160</td>\n",
       "      <td>0.263000</td>\n",
       "      <td>5</td>\n",
       "      <td>1</td>\n",
       "      <td>0.0278</td>\n",
       "      <td>4</td>\n",
       "    </tr>\n",
       "    <tr>\n",
       "      <th>3</th>\n",
       "      <td>0</td>\n",
       "      <td>0.734</td>\n",
       "      <td>0.648</td>\n",
       "      <td>97.984</td>\n",
       "      <td>0.672</td>\n",
       "      <td>0.1240</td>\n",
       "      <td>0.2150</td>\n",
       "      <td>-5.509</td>\n",
       "      <td>222640</td>\n",
       "      <td>0.000000</td>\n",
       "      <td>4</td>\n",
       "      <td>1</td>\n",
       "      <td>0.1730</td>\n",
       "      <td>4</td>\n",
       "    </tr>\n",
       "    <tr>\n",
       "      <th>4</th>\n",
       "      <td>0</td>\n",
       "      <td>0.795</td>\n",
       "      <td>0.565</td>\n",
       "      <td>87.925</td>\n",
       "      <td>0.550</td>\n",
       "      <td>0.1310</td>\n",
       "      <td>0.0802</td>\n",
       "      <td>-4.457</td>\n",
       "      <td>172342</td>\n",
       "      <td>0.000000</td>\n",
       "      <td>3</td>\n",
       "      <td>0</td>\n",
       "      <td>0.0948</td>\n",
       "      <td>4</td>\n",
       "    </tr>\n",
       "  </tbody>\n",
       "</table>\n",
       "</div>"
      ],
      "text/plain": [
       "   hit  danceability  energy    tempo  valence  acousticness  liveness  \\\n",
       "0    1         0.729   0.675  119.968    0.779        0.1750    0.5500   \n",
       "1    1         0.829   0.878   87.991    0.883        0.0959    0.7760   \n",
       "2    1         0.463   0.382   74.573    0.638        0.8970    0.1080   \n",
       "3    0         0.734   0.648   97.984    0.672        0.1240    0.2150   \n",
       "4    0         0.795   0.565   87.925    0.550        0.1310    0.0802   \n",
       "\n",
       "   loudness  duration_ms  instrumentalness  key  mode  speechiness  \\\n",
       "0    -6.003       245867          0.000002    8     1       0.0312   \n",
       "1    -5.951       239307          0.000000    9     1       0.1010   \n",
       "2   -11.682       209160          0.263000    5     1       0.0278   \n",
       "3    -5.509       222640          0.000000    4     1       0.1730   \n",
       "4    -4.457       172342          0.000000    3     0       0.0948   \n",
       "\n",
       "   time_signature  \n",
       "0               4  \n",
       "1               4  \n",
       "2               4  \n",
       "3               4  \n",
       "4               4  "
      ]
     },
     "execution_count": 28,
     "metadata": {},
     "output_type": "execute_result"
    }
   ],
   "source": [
    "datasets.head()"
   ]
  },
  {
   "cell_type": "code",
   "execution_count": 29,
   "id": "9313ce66-c030-498b-bc84-0a8a6bff8e59",
   "metadata": {},
   "outputs": [],
   "source": [
    "datasets.to_csv('afro_balanced_dataset.csv')"
   ]
  },
  {
   "cell_type": "code",
   "execution_count": 30,
   "id": "64df9152-7878-4376-a8da-7ce4c10fa757",
   "metadata": {},
   "outputs": [],
   "source": [
    "# from imblearn.over_sampling import SMOTE\n",
    "def dataprocessing(df):\n",
    "    y=df['hit']\n",
    "    X = df.drop(['hit'], axis=1)\n",
    "\n",
    "    X_train, X_test, y_train, y_test = train_test_split(X, y, train_size = 0.80, random_state=42, shuffle=True)\n",
    "    # smote = SMOTE(sampling_strategy='auto', random_state=42)\n",
    "\n",
    "    # class_weight = {0: 1, 1: len(y_train[y_train == 0]) / len(y_train[y_train == 1])}\n",
    "    # X_sample, y_sample = smote.fit_resample(X_train, y_train)\n",
    "    # standardize\n",
    "    # std = StandardScaler()\n",
    "    # std.fit(X_train)\n",
    "\n",
    "    print(type(X_train))\n",
    "    # X_train = pd.DataFrame(std.transform(X_train), index=X_train.index, columns=X_train.columns)\n",
    "    # X_test = pd.DataFrame(std.transform(X_test), index=X_test.index, columns=X_test.columns)\n",
    "\n",
    "    return X_train, X_test, y_train, y_test"
   ]
  },
  {
   "cell_type": "code",
   "execution_count": 31,
   "id": "b817dcb0-c1b2-4dd2-900b-e25f2343618d",
   "metadata": {},
   "outputs": [
    {
     "name": "stdout",
     "output_type": "stream",
     "text": [
      "<class 'pandas.core.frame.DataFrame'>\n"
     ]
    }
   ],
   "source": [
    "X_train, X_test, y_train, y_test= dataprocessing(datasets)"
   ]
  },
  {
   "cell_type": "code",
   "execution_count": 33,
   "id": "e8a651ae-81c4-46e7-a1b5-a0dd777d269e",
   "metadata": {},
   "outputs": [],
   "source": [
    "# X_train.to_numpy().shapx\n",
    "# X_test.head()"
   ]
  },
  {
   "cell_type": "code",
   "execution_count": 34,
   "id": "67663941-5bcc-4d57-93b6-572fef430659",
   "metadata": {},
   "outputs": [],
   "source": [
    "# from imblearn.over_sampling import SMOTE\n",
    "# # Resampling the minority class. The strategy can be changed as required.\n",
    "# sm = SMOTE(sampling_strategy='minority', random_state=42)\n",
    "# # Fit the model to generate the data.\n",
    "# X_train, y_train = sm.fit_resample(X_train, y_train)\n",
    "# new_datasets = pd.concat([pd.DataFrame(oversampled_Y), pd.DataFrame(oversampled_X)], axis=1)"
   ]
  },
  {
   "cell_type": "code",
   "execution_count": 32,
   "id": "012c4980-0669-4068-99c6-981f460e7de4",
   "metadata": {},
   "outputs": [
    {
     "data": {
      "text/plain": [
       "((4350, 13),\n",
       " 0    2175\n",
       " 1    2175\n",
       " Name: hit, dtype: int64)"
      ]
     },
     "execution_count": 32,
     "metadata": {},
     "output_type": "execute_result"
    }
   ],
   "source": [
    "X_train.shape, y_train.value_counts()"
   ]
  },
  {
   "cell_type": "code",
   "execution_count": 35,
   "id": "38180d94-636e-447f-a131-9f0a772e3f3a",
   "metadata": {},
   "outputs": [
    {
     "name": "stdout",
     "output_type": "stream",
     "text": [
      "4350\n",
      "1088\n",
      "4350\n"
     ]
    }
   ],
   "source": [
    "print(len(X_train))\n",
    "print(len(X_test))\n",
    "print(len(y_train))"
   ]
  },
  {
   "cell_type": "code",
   "execution_count": 36,
   "id": "eda6aeab-fd08-42de-9710-b829324c11bb",
   "metadata": {},
   "outputs": [
    {
     "data": {
      "text/html": [
       "<div>\n",
       "<style scoped>\n",
       "    .dataframe tbody tr th:only-of-type {\n",
       "        vertical-align: middle;\n",
       "    }\n",
       "\n",
       "    .dataframe tbody tr th {\n",
       "        vertical-align: top;\n",
       "    }\n",
       "\n",
       "    .dataframe thead th {\n",
       "        text-align: right;\n",
       "    }\n",
       "</style>\n",
       "<table border=\"1\" class=\"dataframe\">\n",
       "  <thead>\n",
       "    <tr style=\"text-align: right;\">\n",
       "      <th></th>\n",
       "      <th>danceability</th>\n",
       "      <th>energy</th>\n",
       "      <th>tempo</th>\n",
       "      <th>valence</th>\n",
       "      <th>acousticness</th>\n",
       "      <th>liveness</th>\n",
       "      <th>loudness</th>\n",
       "      <th>duration_ms</th>\n",
       "      <th>instrumentalness</th>\n",
       "      <th>key</th>\n",
       "      <th>mode</th>\n",
       "      <th>speechiness</th>\n",
       "      <th>time_signature</th>\n",
       "    </tr>\n",
       "  </thead>\n",
       "  <tbody>\n",
       "    <tr>\n",
       "      <th>3772</th>\n",
       "      <td>0.574926</td>\n",
       "      <td>0.456418</td>\n",
       "      <td>122.269898</td>\n",
       "      <td>0.605527</td>\n",
       "      <td>0.554057</td>\n",
       "      <td>0.091242</td>\n",
       "      <td>-8.698016</td>\n",
       "      <td>184664</td>\n",
       "      <td>0.000050</td>\n",
       "      <td>9</td>\n",
       "      <td>0</td>\n",
       "      <td>0.068004</td>\n",
       "      <td>4</td>\n",
       "    </tr>\n",
       "    <tr>\n",
       "      <th>5191</th>\n",
       "      <td>0.818824</td>\n",
       "      <td>0.547055</td>\n",
       "      <td>96.081206</td>\n",
       "      <td>0.685511</td>\n",
       "      <td>0.207778</td>\n",
       "      <td>0.095571</td>\n",
       "      <td>-9.183377</td>\n",
       "      <td>220267</td>\n",
       "      <td>0.000220</td>\n",
       "      <td>7</td>\n",
       "      <td>1</td>\n",
       "      <td>0.082938</td>\n",
       "      <td>4</td>\n",
       "    </tr>\n",
       "    <tr>\n",
       "      <th>5226</th>\n",
       "      <td>0.857212</td>\n",
       "      <td>0.705833</td>\n",
       "      <td>96.794860</td>\n",
       "      <td>0.780623</td>\n",
       "      <td>0.047568</td>\n",
       "      <td>0.115750</td>\n",
       "      <td>-3.157217</td>\n",
       "      <td>209585</td>\n",
       "      <td>0.007125</td>\n",
       "      <td>3</td>\n",
       "      <td>0</td>\n",
       "      <td>0.161788</td>\n",
       "      <td>4</td>\n",
       "    </tr>\n",
       "    <tr>\n",
       "      <th>5390</th>\n",
       "      <td>0.649806</td>\n",
       "      <td>0.510115</td>\n",
       "      <td>168.192326</td>\n",
       "      <td>0.734788</td>\n",
       "      <td>0.618582</td>\n",
       "      <td>0.088931</td>\n",
       "      <td>-5.631961</td>\n",
       "      <td>167761</td>\n",
       "      <td>0.000826</td>\n",
       "      <td>3</td>\n",
       "      <td>0</td>\n",
       "      <td>0.085728</td>\n",
       "      <td>4</td>\n",
       "    </tr>\n",
       "    <tr>\n",
       "      <th>860</th>\n",
       "      <td>0.821000</td>\n",
       "      <td>0.619000</td>\n",
       "      <td>115.949000</td>\n",
       "      <td>0.388000</td>\n",
       "      <td>0.028600</td>\n",
       "      <td>0.118000</td>\n",
       "      <td>-9.496000</td>\n",
       "      <td>168103</td>\n",
       "      <td>0.000005</td>\n",
       "      <td>6</td>\n",
       "      <td>0</td>\n",
       "      <td>0.102000</td>\n",
       "      <td>4</td>\n",
       "    </tr>\n",
       "  </tbody>\n",
       "</table>\n",
       "</div>"
      ],
      "text/plain": [
       "      danceability    energy       tempo   valence  acousticness  liveness  \\\n",
       "3772      0.574926  0.456418  122.269898  0.605527      0.554057  0.091242   \n",
       "5191      0.818824  0.547055   96.081206  0.685511      0.207778  0.095571   \n",
       "5226      0.857212  0.705833   96.794860  0.780623      0.047568  0.115750   \n",
       "5390      0.649806  0.510115  168.192326  0.734788      0.618582  0.088931   \n",
       "860       0.821000  0.619000  115.949000  0.388000      0.028600  0.118000   \n",
       "\n",
       "      loudness  duration_ms  instrumentalness  key  mode  speechiness  \\\n",
       "3772 -8.698016       184664          0.000050    9     0     0.068004   \n",
       "5191 -9.183377       220267          0.000220    7     1     0.082938   \n",
       "5226 -3.157217       209585          0.007125    3     0     0.161788   \n",
       "5390 -5.631961       167761          0.000826    3     0     0.085728   \n",
       "860  -9.496000       168103          0.000005    6     0     0.102000   \n",
       "\n",
       "      time_signature  \n",
       "3772               4  \n",
       "5191               4  \n",
       "5226               4  \n",
       "5390               4  \n",
       "860                4  "
      ]
     },
     "execution_count": 36,
     "metadata": {},
     "output_type": "execute_result"
    }
   ],
   "source": [
    "X_train.tail()\n",
    "# print(class_weight)"
   ]
  },
  {
   "cell_type": "code",
   "execution_count": 37,
   "id": "19247302-7fe1-44e1-9040-155b98f93bc9",
   "metadata": {},
   "outputs": [
    {
     "data": {
      "text/plain": [
       "0    2175\n",
       "1    2175\n",
       "Name: hit, dtype: int64"
      ]
     },
     "execution_count": 37,
     "metadata": {},
     "output_type": "execute_result"
    }
   ],
   "source": [
    "y_train.value_counts()"
   ]
  },
  {
   "cell_type": "code",
   "execution_count": 38,
   "id": "cc1e885b-fab3-43ae-adbe-7ca42aec1c34",
   "metadata": {},
   "outputs": [
    {
     "name": "stdout",
     "output_type": "stream",
     "text": [
      "(1088, 13)\n",
      "1    544\n",
      "0    544\n",
      "Name: hit, dtype: int64 (1088,)\n"
     ]
    }
   ],
   "source": [
    "print(X_test.shape)\n",
    "print(y_test.value_counts(), y_test.shape)"
   ]
  },
  {
   "cell_type": "code",
   "execution_count": 39,
   "id": "55b3a5a0-bc7a-4181-abd4-3c05d9232044",
   "metadata": {},
   "outputs": [
    {
     "data": {
      "text/plain": [
       "hit                 0\n",
       "danceability        0\n",
       "energy              0\n",
       "tempo               0\n",
       "valence             0\n",
       "acousticness        0\n",
       "liveness            0\n",
       "loudness            0\n",
       "duration_ms         0\n",
       "instrumentalness    0\n",
       "key                 0\n",
       "mode                0\n",
       "speechiness         0\n",
       "time_signature      0\n",
       "dtype: int64"
      ]
     },
     "execution_count": 39,
     "metadata": {},
     "output_type": "execute_result"
    }
   ],
   "source": [
    "datasets.isnull().sum()"
   ]
  },
  {
   "cell_type": "code",
   "execution_count": 40,
   "id": "ee79646b-23e8-40f2-953b-3d33225c9e5a",
   "metadata": {},
   "outputs": [],
   "source": [
    "models = {\n",
    "    \"                   Logistic Regression\": LogisticRegression(),\n",
    "    \"                   K-Nearest Neighbors\": KNeighborsClassifier(),\n",
    "    \"                         Decision Tree\": DecisionTreeClassifier(),\n",
    "    \"Support Vector Machine (Linear Kernel)\": LinearSVC(),\n",
    "    \"   Support Vector Machine (RBF Kernel)\": SVC(),\n",
    "    \"                        Neural Network\": MLPClassifier(),\n",
    "    \"                         Random Forest\": RandomForestClassifier(),\n",
    "    \"                     Gradient Boosting\": GradientBoostingClassifier()\n",
    "}"
   ]
  },
  {
   "cell_type": "code",
   "execution_count": 68,
   "id": "244f2642-a9e8-4d29-95d6-3c41682db6ff",
   "metadata": {},
   "outputs": [
    {
     "name": "stdout",
     "output_type": "stream",
     "text": [
      "                   Logistic Regression trained.\n",
      "                   K-Nearest Neighbors trained.\n",
      "                         Decision Tree trained.\n",
      "Support Vector Machine (Linear Kernel) trained.\n",
      "   Support Vector Machine (RBF Kernel) trained.\n",
      "                        Neural Network trained.\n",
      "                         Random Forest trained.\n",
      "                     Gradient Boosting trained.\n"
     ]
    }
   ],
   "source": [
    "for name, model in models.items():\n",
    "    model.fit(X_train, y_train)\n",
    "    print(name + \" trained.\")"
   ]
  },
  {
   "cell_type": "code",
   "execution_count": 67,
   "id": "79087b10-a1f3-4f57-be4a-2c05485519ed",
   "metadata": {},
   "outputs": [
    {
     "name": "stdout",
     "output_type": "stream",
     "text": [
      "                   Logistic Regression: 50.00%\n",
      "                   K-Nearest Neighbors: 67.56%\n",
      "                         Decision Tree: 80.06%\n",
      "Support Vector Machine (Linear Kernel): 50.00%\n",
      "   Support Vector Machine (RBF Kernel): 55.70%\n",
      "                        Neural Network: 47.06%\n",
      "                         Random Forest: 88.24%\n",
      "                     Gradient Boosting: 80.70%\n"
     ]
    }
   ],
   "source": [
    "for name, model in models.items():\n",
    "    print(name + \": {:.2f}%\".format(model.score(X_test, y_test) * 100))"
   ]
  },
  {
   "cell_type": "code",
   "execution_count": 72,
   "id": "246c835f-b55f-4f7a-8a45-033b28a1f1a9",
   "metadata": {},
   "outputs": [
    {
     "name": "stdout",
     "output_type": "stream",
     "text": [
      "Random Forest (Tuned): 88.97%\n"
     ]
    }
   ],
   "source": [
    "from sklearn.model_selection import GridSearchCV\n",
    "\n",
    "param_grid = {\n",
    "    'n_estimators': [50, 100, 200],\n",
    "    'max_depth': [None, 10, 20]\n",
    "}\n",
    "\n",
    "grid_search = GridSearchCV(RandomForestClassifier(), param_grid, cv=5)\n",
    "grid_search.fit(X_train, y_train)\n",
    "best_model = grid_search.best_estimator_\n",
    "best_model.fit(X_train, y_train)\n",
    "y_pred = best_model.predict(X_test)\n",
    "acc3 = accuracy_score(y_test, y_pred) * 100\n",
    "print(f\"Random Forest (Tuned): {acc3:.2f}%\")"
   ]
  },
  {
   "cell_type": "code",
   "execution_count": 70,
   "id": "b70fbdc9-c734-42cb-a7a5-ffeb36b37209",
   "metadata": {},
   "outputs": [
    {
     "name": "stdout",
     "output_type": "stream",
     "text": [
      "stack classifier: 87.87%\n"
     ]
    }
   ],
   "source": [
    "from sklearn.ensemble import StackingClassifier\n",
    "# from sklearn.linear_model import LogisticRegression\n",
    "\n",
    "estimators = [\n",
    "    ('rf', RandomForestClassifier(n_estimators=100, max_depth=None)), ('svc', LinearSVC())\n",
    "]\n",
    "stack_classifier = StackingClassifier(estimators=estimators, final_estimator=LogisticRegression(max_iter=2500, C=0.01))\n",
    "stack_classifier.fit(X_train, y_train)\n",
    "y_pred2 = stack_classifier.predict(X_test)\n",
    "acc4 = accuracy_score(y_test, y_pred2) * 100\n",
    "print(f\"stack classifier: {acc4:.2f}%\")"
   ]
  },
  {
   "cell_type": "code",
   "execution_count": 71,
   "id": "2a3eab91-30bb-434f-a611-c6bbe3270eb2",
   "metadata": {},
   "outputs": [],
   "source": [
    "model_1 = RandomForestClassifier()"
   ]
  },
  {
   "cell_type": "code",
   "execution_count": 48,
   "id": "b8853832-4125-41dc-a721-322bb944d1a3",
   "metadata": {},
   "outputs": [
    {
     "data": {
      "text/html": [
       "<div>\n",
       "<style scoped>\n",
       "    .dataframe tbody tr th:only-of-type {\n",
       "        vertical-align: middle;\n",
       "    }\n",
       "\n",
       "    .dataframe tbody tr th {\n",
       "        vertical-align: top;\n",
       "    }\n",
       "\n",
       "    .dataframe thead th {\n",
       "        text-align: right;\n",
       "    }\n",
       "</style>\n",
       "<table border=\"1\" class=\"dataframe\">\n",
       "  <thead>\n",
       "    <tr style=\"text-align: right;\">\n",
       "      <th></th>\n",
       "      <th>danceability</th>\n",
       "      <th>energy</th>\n",
       "      <th>tempo</th>\n",
       "      <th>valence</th>\n",
       "      <th>acousticness</th>\n",
       "      <th>liveness</th>\n",
       "      <th>loudness</th>\n",
       "      <th>duration_ms</th>\n",
       "      <th>instrumentalness</th>\n",
       "      <th>key</th>\n",
       "      <th>mode</th>\n",
       "      <th>speechiness</th>\n",
       "      <th>time_signature</th>\n",
       "    </tr>\n",
       "  </thead>\n",
       "  <tbody>\n",
       "    <tr>\n",
       "      <th>3204</th>\n",
       "      <td>0.679051</td>\n",
       "      <td>0.408317</td>\n",
       "      <td>112.838667</td>\n",
       "      <td>0.508587</td>\n",
       "      <td>0.605713</td>\n",
       "      <td>0.440522</td>\n",
       "      <td>-10.280025</td>\n",
       "      <td>105246</td>\n",
       "      <td>0.001171</td>\n",
       "      <td>7</td>\n",
       "      <td>0</td>\n",
       "      <td>0.039118</td>\n",
       "      <td>4</td>\n",
       "    </tr>\n",
       "    <tr>\n",
       "      <th>4515</th>\n",
       "      <td>0.660992</td>\n",
       "      <td>0.453603</td>\n",
       "      <td>115.168577</td>\n",
       "      <td>0.410297</td>\n",
       "      <td>0.010475</td>\n",
       "      <td>0.052763</td>\n",
       "      <td>-10.571981</td>\n",
       "      <td>330423</td>\n",
       "      <td>0.367465</td>\n",
       "      <td>1</td>\n",
       "      <td>1</td>\n",
       "      <td>0.085629</td>\n",
       "      <td>4</td>\n",
       "    </tr>\n",
       "    <tr>\n",
       "      <th>2146</th>\n",
       "      <td>0.834000</td>\n",
       "      <td>0.494000</td>\n",
       "      <td>100.012000</td>\n",
       "      <td>0.560000</td>\n",
       "      <td>0.690000</td>\n",
       "      <td>0.124000</td>\n",
       "      <td>-8.980000</td>\n",
       "      <td>187200</td>\n",
       "      <td>0.000000</td>\n",
       "      <td>5</td>\n",
       "      <td>0</td>\n",
       "      <td>0.192000</td>\n",
       "      <td>4</td>\n",
       "    </tr>\n",
       "    <tr>\n",
       "      <th>3105</th>\n",
       "      <td>0.715034</td>\n",
       "      <td>0.732236</td>\n",
       "      <td>103.841010</td>\n",
       "      <td>0.540457</td>\n",
       "      <td>0.334789</td>\n",
       "      <td>0.160740</td>\n",
       "      <td>-4.258162</td>\n",
       "      <td>145646</td>\n",
       "      <td>0.001252</td>\n",
       "      <td>7</td>\n",
       "      <td>1</td>\n",
       "      <td>0.061816</td>\n",
       "      <td>4</td>\n",
       "    </tr>\n",
       "    <tr>\n",
       "      <th>881</th>\n",
       "      <td>0.868000</td>\n",
       "      <td>0.521000</td>\n",
       "      <td>113.993000</td>\n",
       "      <td>0.886000</td>\n",
       "      <td>0.281000</td>\n",
       "      <td>0.099200</td>\n",
       "      <td>-6.902000</td>\n",
       "      <td>206316</td>\n",
       "      <td>0.000064</td>\n",
       "      <td>1</td>\n",
       "      <td>0</td>\n",
       "      <td>0.051200</td>\n",
       "      <td>4</td>\n",
       "    </tr>\n",
       "  </tbody>\n",
       "</table>\n",
       "</div>"
      ],
      "text/plain": [
       "      danceability    energy       tempo   valence  acousticness  liveness  \\\n",
       "3204      0.679051  0.408317  112.838667  0.508587      0.605713  0.440522   \n",
       "4515      0.660992  0.453603  115.168577  0.410297      0.010475  0.052763   \n",
       "2146      0.834000  0.494000  100.012000  0.560000      0.690000  0.124000   \n",
       "3105      0.715034  0.732236  103.841010  0.540457      0.334789  0.160740   \n",
       "881       0.868000  0.521000  113.993000  0.886000      0.281000  0.099200   \n",
       "\n",
       "       loudness  duration_ms  instrumentalness  key  mode  speechiness  \\\n",
       "3204 -10.280025       105246          0.001171    7     0     0.039118   \n",
       "4515 -10.571981       330423          0.367465    1     1     0.085629   \n",
       "2146  -8.980000       187200          0.000000    5     0     0.192000   \n",
       "3105  -4.258162       145646          0.001252    7     1     0.061816   \n",
       "881   -6.902000       206316          0.000064    1     0     0.051200   \n",
       "\n",
       "      time_signature  \n",
       "3204               4  \n",
       "4515               4  \n",
       "2146               4  \n",
       "3105               4  \n",
       "881                4  "
      ]
     },
     "execution_count": 48,
     "metadata": {},
     "output_type": "execute_result"
    }
   ],
   "source": [
    "X_test.head()"
   ]
  },
  {
   "cell_type": "code",
   "execution_count": 49,
   "id": "7e34302f-b1b2-4fab-927c-4e3f2440a59e",
   "metadata": {},
   "outputs": [
    {
     "data": {
      "text/html": [
       "<style>#sk-container-id-1 {color: black;background-color: white;}#sk-container-id-1 pre{padding: 0;}#sk-container-id-1 div.sk-toggleable {background-color: white;}#sk-container-id-1 label.sk-toggleable__label {cursor: pointer;display: block;width: 100%;margin-bottom: 0;padding: 0.3em;box-sizing: border-box;text-align: center;}#sk-container-id-1 label.sk-toggleable__label-arrow:before {content: \"▸\";float: left;margin-right: 0.25em;color: #696969;}#sk-container-id-1 label.sk-toggleable__label-arrow:hover:before {color: black;}#sk-container-id-1 div.sk-estimator:hover label.sk-toggleable__label-arrow:before {color: black;}#sk-container-id-1 div.sk-toggleable__content {max-height: 0;max-width: 0;overflow: hidden;text-align: left;background-color: #f0f8ff;}#sk-container-id-1 div.sk-toggleable__content pre {margin: 0.2em;color: black;border-radius: 0.25em;background-color: #f0f8ff;}#sk-container-id-1 input.sk-toggleable__control:checked~div.sk-toggleable__content {max-height: 200px;max-width: 100%;overflow: auto;}#sk-container-id-1 input.sk-toggleable__control:checked~label.sk-toggleable__label-arrow:before {content: \"▾\";}#sk-container-id-1 div.sk-estimator input.sk-toggleable__control:checked~label.sk-toggleable__label {background-color: #d4ebff;}#sk-container-id-1 div.sk-label input.sk-toggleable__control:checked~label.sk-toggleable__label {background-color: #d4ebff;}#sk-container-id-1 input.sk-hidden--visually {border: 0;clip: rect(1px 1px 1px 1px);clip: rect(1px, 1px, 1px, 1px);height: 1px;margin: -1px;overflow: hidden;padding: 0;position: absolute;width: 1px;}#sk-container-id-1 div.sk-estimator {font-family: monospace;background-color: #f0f8ff;border: 1px dotted black;border-radius: 0.25em;box-sizing: border-box;margin-bottom: 0.5em;}#sk-container-id-1 div.sk-estimator:hover {background-color: #d4ebff;}#sk-container-id-1 div.sk-parallel-item::after {content: \"\";width: 100%;border-bottom: 1px solid gray;flex-grow: 1;}#sk-container-id-1 div.sk-label:hover label.sk-toggleable__label {background-color: #d4ebff;}#sk-container-id-1 div.sk-serial::before {content: \"\";position: absolute;border-left: 1px solid gray;box-sizing: border-box;top: 0;bottom: 0;left: 50%;z-index: 0;}#sk-container-id-1 div.sk-serial {display: flex;flex-direction: column;align-items: center;background-color: white;padding-right: 0.2em;padding-left: 0.2em;position: relative;}#sk-container-id-1 div.sk-item {position: relative;z-index: 1;}#sk-container-id-1 div.sk-parallel {display: flex;align-items: stretch;justify-content: center;background-color: white;position: relative;}#sk-container-id-1 div.sk-item::before, #sk-container-id-1 div.sk-parallel-item::before {content: \"\";position: absolute;border-left: 1px solid gray;box-sizing: border-box;top: 0;bottom: 0;left: 50%;z-index: -1;}#sk-container-id-1 div.sk-parallel-item {display: flex;flex-direction: column;z-index: 1;position: relative;background-color: white;}#sk-container-id-1 div.sk-parallel-item:first-child::after {align-self: flex-end;width: 50%;}#sk-container-id-1 div.sk-parallel-item:last-child::after {align-self: flex-start;width: 50%;}#sk-container-id-1 div.sk-parallel-item:only-child::after {width: 0;}#sk-container-id-1 div.sk-dashed-wrapped {border: 1px dashed gray;margin: 0 0.4em 0.5em 0.4em;box-sizing: border-box;padding-bottom: 0.4em;background-color: white;}#sk-container-id-1 div.sk-label label {font-family: monospace;font-weight: bold;display: inline-block;line-height: 1.2em;}#sk-container-id-1 div.sk-label-container {text-align: center;}#sk-container-id-1 div.sk-container {/* jupyter's `normalize.less` sets `[hidden] { display: none; }` but bootstrap.min.css set `[hidden] { display: none !important; }` so we also need the `!important` here to be able to override the default hidden behavior on the sphinx rendered scikit-learn.org. See: https://github.com/scikit-learn/scikit-learn/issues/21755 */display: inline-block !important;position: relative;}#sk-container-id-1 div.sk-text-repr-fallback {display: none;}</style><div id=\"sk-container-id-1\" class=\"sk-top-container\"><div class=\"sk-text-repr-fallback\"><pre>RandomForestClassifier()</pre><b>In a Jupyter environment, please rerun this cell to show the HTML representation or trust the notebook. <br />On GitHub, the HTML representation is unable to render, please try loading this page with nbviewer.org.</b></div><div class=\"sk-container\" hidden><div class=\"sk-item\"><div class=\"sk-estimator sk-toggleable\"><input class=\"sk-toggleable__control sk-hidden--visually\" id=\"sk-estimator-id-1\" type=\"checkbox\" checked><label for=\"sk-estimator-id-1\" class=\"sk-toggleable__label sk-toggleable__label-arrow\">RandomForestClassifier</label><div class=\"sk-toggleable__content\"><pre>RandomForestClassifier()</pre></div></div></div></div></div>"
      ],
      "text/plain": [
       "RandomForestClassifier()"
      ]
     },
     "execution_count": 49,
     "metadata": {},
     "output_type": "execute_result"
    }
   ],
   "source": [
    "model_1.fit(X_train, y_train)"
   ]
  },
  {
   "cell_type": "code",
   "execution_count": 50,
   "id": "553b38ac-cad5-4f1f-8ec0-7ec06b372642",
   "metadata": {},
   "outputs": [
    {
     "name": "stdout",
     "output_type": "stream",
     "text": [
      "Accuracy: 87.87%\n"
     ]
    }
   ],
   "source": [
    "y_pred = model_1.predict(X_test)\n",
    "\n",
    "acc = accuracy_score(y_test, y_pred) * 100\n",
    "\n",
    "print(f\"Accuracy: {acc:.2f}%\")"
   ]
  },
  {
   "cell_type": "code",
   "execution_count": 51,
   "id": "08f1487f-58f5-4823-be3d-e7cb234d0ab3",
   "metadata": {},
   "outputs": [
    {
     "data": {
      "text/html": [
       "<div>\n",
       "<style scoped>\n",
       "    .dataframe tbody tr th:only-of-type {\n",
       "        vertical-align: middle;\n",
       "    }\n",
       "\n",
       "    .dataframe tbody tr th {\n",
       "        vertical-align: top;\n",
       "    }\n",
       "\n",
       "    .dataframe thead th {\n",
       "        text-align: right;\n",
       "    }\n",
       "</style>\n",
       "<table border=\"1\" class=\"dataframe\">\n",
       "  <thead>\n",
       "    <tr style=\"text-align: right;\">\n",
       "      <th></th>\n",
       "      <th>danceability</th>\n",
       "      <th>energy</th>\n",
       "      <th>tempo</th>\n",
       "      <th>valence</th>\n",
       "      <th>acousticness</th>\n",
       "      <th>liveness</th>\n",
       "      <th>loudness</th>\n",
       "      <th>duration_ms</th>\n",
       "      <th>instrumentalness</th>\n",
       "      <th>key</th>\n",
       "      <th>mode</th>\n",
       "      <th>speechiness</th>\n",
       "      <th>time_signature</th>\n",
       "    </tr>\n",
       "  </thead>\n",
       "  <tbody>\n",
       "    <tr>\n",
       "      <th>3204</th>\n",
       "      <td>0.679051</td>\n",
       "      <td>0.408317</td>\n",
       "      <td>112.838667</td>\n",
       "      <td>0.508587</td>\n",
       "      <td>0.605713</td>\n",
       "      <td>0.440522</td>\n",
       "      <td>-10.280025</td>\n",
       "      <td>105246</td>\n",
       "      <td>0.001171</td>\n",
       "      <td>7</td>\n",
       "      <td>0</td>\n",
       "      <td>0.039118</td>\n",
       "      <td>4</td>\n",
       "    </tr>\n",
       "    <tr>\n",
       "      <th>4515</th>\n",
       "      <td>0.660992</td>\n",
       "      <td>0.453603</td>\n",
       "      <td>115.168577</td>\n",
       "      <td>0.410297</td>\n",
       "      <td>0.010475</td>\n",
       "      <td>0.052763</td>\n",
       "      <td>-10.571981</td>\n",
       "      <td>330423</td>\n",
       "      <td>0.367465</td>\n",
       "      <td>1</td>\n",
       "      <td>1</td>\n",
       "      <td>0.085629</td>\n",
       "      <td>4</td>\n",
       "    </tr>\n",
       "    <tr>\n",
       "      <th>2146</th>\n",
       "      <td>0.834000</td>\n",
       "      <td>0.494000</td>\n",
       "      <td>100.012000</td>\n",
       "      <td>0.560000</td>\n",
       "      <td>0.690000</td>\n",
       "      <td>0.124000</td>\n",
       "      <td>-8.980000</td>\n",
       "      <td>187200</td>\n",
       "      <td>0.000000</td>\n",
       "      <td>5</td>\n",
       "      <td>0</td>\n",
       "      <td>0.192000</td>\n",
       "      <td>4</td>\n",
       "    </tr>\n",
       "    <tr>\n",
       "      <th>3105</th>\n",
       "      <td>0.715034</td>\n",
       "      <td>0.732236</td>\n",
       "      <td>103.841010</td>\n",
       "      <td>0.540457</td>\n",
       "      <td>0.334789</td>\n",
       "      <td>0.160740</td>\n",
       "      <td>-4.258162</td>\n",
       "      <td>145646</td>\n",
       "      <td>0.001252</td>\n",
       "      <td>7</td>\n",
       "      <td>1</td>\n",
       "      <td>0.061816</td>\n",
       "      <td>4</td>\n",
       "    </tr>\n",
       "    <tr>\n",
       "      <th>881</th>\n",
       "      <td>0.868000</td>\n",
       "      <td>0.521000</td>\n",
       "      <td>113.993000</td>\n",
       "      <td>0.886000</td>\n",
       "      <td>0.281000</td>\n",
       "      <td>0.099200</td>\n",
       "      <td>-6.902000</td>\n",
       "      <td>206316</td>\n",
       "      <td>0.000064</td>\n",
       "      <td>1</td>\n",
       "      <td>0</td>\n",
       "      <td>0.051200</td>\n",
       "      <td>4</td>\n",
       "    </tr>\n",
       "  </tbody>\n",
       "</table>\n",
       "</div>"
      ],
      "text/plain": [
       "      danceability    energy       tempo   valence  acousticness  liveness  \\\n",
       "3204      0.679051  0.408317  112.838667  0.508587      0.605713  0.440522   \n",
       "4515      0.660992  0.453603  115.168577  0.410297      0.010475  0.052763   \n",
       "2146      0.834000  0.494000  100.012000  0.560000      0.690000  0.124000   \n",
       "3105      0.715034  0.732236  103.841010  0.540457      0.334789  0.160740   \n",
       "881       0.868000  0.521000  113.993000  0.886000      0.281000  0.099200   \n",
       "\n",
       "       loudness  duration_ms  instrumentalness  key  mode  speechiness  \\\n",
       "3204 -10.280025       105246          0.001171    7     0     0.039118   \n",
       "4515 -10.571981       330423          0.367465    1     1     0.085629   \n",
       "2146  -8.980000       187200          0.000000    5     0     0.192000   \n",
       "3105  -4.258162       145646          0.001252    7     1     0.061816   \n",
       "881   -6.902000       206316          0.000064    1     0     0.051200   \n",
       "\n",
       "      time_signature  \n",
       "3204               4  \n",
       "4515               4  \n",
       "2146               4  \n",
       "3105               4  \n",
       "881                4  "
      ]
     },
     "execution_count": 51,
     "metadata": {},
     "output_type": "execute_result"
    }
   ],
   "source": [
    "X_test.head()"
   ]
  },
  {
   "cell_type": "code",
   "execution_count": 52,
   "id": "2615634e-8370-46aa-b2cd-0c537d2ee52d",
   "metadata": {},
   "outputs": [
    {
     "data": {
      "text/plain": [
       "danceability             0.679051\n",
       "energy                   0.408317\n",
       "tempo                  112.838667\n",
       "valence                  0.508587\n",
       "acousticness             0.605713\n",
       "liveness                 0.440522\n",
       "loudness               -10.280025\n",
       "duration_ms         105246.000000\n",
       "instrumentalness         0.001171\n",
       "key                      7.000000\n",
       "mode                     0.000000\n",
       "speechiness              0.039118\n",
       "time_signature           4.000000\n",
       "Name: 3204, dtype: float64"
      ]
     },
     "execution_count": 52,
     "metadata": {},
     "output_type": "execute_result"
    }
   ],
   "source": [
    "X_test.loc[3204,:]"
   ]
  },
  {
   "cell_type": "code",
   "execution_count": 53,
   "id": "e00fc7fd-80c6-4085-be9b-4c2a45740c92",
   "metadata": {},
   "outputs": [
    {
     "data": {
      "text/html": [
       "<div>\n",
       "<style scoped>\n",
       "    .dataframe tbody tr th:only-of-type {\n",
       "        vertical-align: middle;\n",
       "    }\n",
       "\n",
       "    .dataframe tbody tr th {\n",
       "        vertical-align: top;\n",
       "    }\n",
       "\n",
       "    .dataframe thead th {\n",
       "        text-align: right;\n",
       "    }\n",
       "</style>\n",
       "<table border=\"1\" class=\"dataframe\">\n",
       "  <thead>\n",
       "    <tr style=\"text-align: right;\">\n",
       "      <th></th>\n",
       "      <th>danceability</th>\n",
       "      <th>energy</th>\n",
       "      <th>tempo</th>\n",
       "      <th>valence</th>\n",
       "      <th>acousticness</th>\n",
       "      <th>liveness</th>\n",
       "      <th>loudness</th>\n",
       "      <th>duration_ms</th>\n",
       "      <th>instrumentalness</th>\n",
       "      <th>key</th>\n",
       "      <th>mode</th>\n",
       "      <th>speechiness</th>\n",
       "      <th>time_signature</th>\n",
       "    </tr>\n",
       "  </thead>\n",
       "  <tbody>\n",
       "    <tr>\n",
       "      <th>3204</th>\n",
       "      <td>0.679051</td>\n",
       "      <td>0.408317</td>\n",
       "      <td>112.838667</td>\n",
       "      <td>0.508587</td>\n",
       "      <td>0.605713</td>\n",
       "      <td>0.440522</td>\n",
       "      <td>-10.280025</td>\n",
       "      <td>105246</td>\n",
       "      <td>0.001171</td>\n",
       "      <td>7</td>\n",
       "      <td>0</td>\n",
       "      <td>0.039118</td>\n",
       "      <td>4</td>\n",
       "    </tr>\n",
       "    <tr>\n",
       "      <th>4515</th>\n",
       "      <td>0.660992</td>\n",
       "      <td>0.453603</td>\n",
       "      <td>115.168577</td>\n",
       "      <td>0.410297</td>\n",
       "      <td>0.010475</td>\n",
       "      <td>0.052763</td>\n",
       "      <td>-10.571981</td>\n",
       "      <td>330423</td>\n",
       "      <td>0.367465</td>\n",
       "      <td>1</td>\n",
       "      <td>1</td>\n",
       "      <td>0.085629</td>\n",
       "      <td>4</td>\n",
       "    </tr>\n",
       "    <tr>\n",
       "      <th>2146</th>\n",
       "      <td>0.834000</td>\n",
       "      <td>0.494000</td>\n",
       "      <td>100.012000</td>\n",
       "      <td>0.560000</td>\n",
       "      <td>0.690000</td>\n",
       "      <td>0.124000</td>\n",
       "      <td>-8.980000</td>\n",
       "      <td>187200</td>\n",
       "      <td>0.000000</td>\n",
       "      <td>5</td>\n",
       "      <td>0</td>\n",
       "      <td>0.192000</td>\n",
       "      <td>4</td>\n",
       "    </tr>\n",
       "    <tr>\n",
       "      <th>3105</th>\n",
       "      <td>0.715034</td>\n",
       "      <td>0.732236</td>\n",
       "      <td>103.841010</td>\n",
       "      <td>0.540457</td>\n",
       "      <td>0.334789</td>\n",
       "      <td>0.160740</td>\n",
       "      <td>-4.258162</td>\n",
       "      <td>145646</td>\n",
       "      <td>0.001252</td>\n",
       "      <td>7</td>\n",
       "      <td>1</td>\n",
       "      <td>0.061816</td>\n",
       "      <td>4</td>\n",
       "    </tr>\n",
       "    <tr>\n",
       "      <th>881</th>\n",
       "      <td>0.868000</td>\n",
       "      <td>0.521000</td>\n",
       "      <td>113.993000</td>\n",
       "      <td>0.886000</td>\n",
       "      <td>0.281000</td>\n",
       "      <td>0.099200</td>\n",
       "      <td>-6.902000</td>\n",
       "      <td>206316</td>\n",
       "      <td>0.000064</td>\n",
       "      <td>1</td>\n",
       "      <td>0</td>\n",
       "      <td>0.051200</td>\n",
       "      <td>4</td>\n",
       "    </tr>\n",
       "    <tr>\n",
       "      <th>...</th>\n",
       "      <td>...</td>\n",
       "      <td>...</td>\n",
       "      <td>...</td>\n",
       "      <td>...</td>\n",
       "      <td>...</td>\n",
       "      <td>...</td>\n",
       "      <td>...</td>\n",
       "      <td>...</td>\n",
       "      <td>...</td>\n",
       "      <td>...</td>\n",
       "      <td>...</td>\n",
       "      <td>...</td>\n",
       "      <td>...</td>\n",
       "    </tr>\n",
       "    <tr>\n",
       "      <th>1941</th>\n",
       "      <td>0.681000</td>\n",
       "      <td>0.879000</td>\n",
       "      <td>125.021000</td>\n",
       "      <td>0.668000</td>\n",
       "      <td>0.050800</td>\n",
       "      <td>0.044800</td>\n",
       "      <td>-1.864000</td>\n",
       "      <td>300262</td>\n",
       "      <td>0.000000</td>\n",
       "      <td>0</td>\n",
       "      <td>0</td>\n",
       "      <td>0.145000</td>\n",
       "      <td>4</td>\n",
       "    </tr>\n",
       "    <tr>\n",
       "      <th>1041</th>\n",
       "      <td>0.850000</td>\n",
       "      <td>0.645000</td>\n",
       "      <td>104.022000</td>\n",
       "      <td>0.930000</td>\n",
       "      <td>0.358000</td>\n",
       "      <td>0.092500</td>\n",
       "      <td>-6.302000</td>\n",
       "      <td>153877</td>\n",
       "      <td>0.000011</td>\n",
       "      <td>11</td>\n",
       "      <td>0</td>\n",
       "      <td>0.061100</td>\n",
       "      <td>4</td>\n",
       "    </tr>\n",
       "    <tr>\n",
       "      <th>1634</th>\n",
       "      <td>0.811000</td>\n",
       "      <td>0.652000</td>\n",
       "      <td>109.999000</td>\n",
       "      <td>0.738000</td>\n",
       "      <td>0.463000</td>\n",
       "      <td>0.066700</td>\n",
       "      <td>-2.798000</td>\n",
       "      <td>256694</td>\n",
       "      <td>0.001580</td>\n",
       "      <td>1</td>\n",
       "      <td>1</td>\n",
       "      <td>0.073600</td>\n",
       "      <td>4</td>\n",
       "    </tr>\n",
       "    <tr>\n",
       "      <th>2462</th>\n",
       "      <td>0.703000</td>\n",
       "      <td>0.625000</td>\n",
       "      <td>89.954000</td>\n",
       "      <td>0.807000</td>\n",
       "      <td>0.370000</td>\n",
       "      <td>0.756000</td>\n",
       "      <td>-9.779000</td>\n",
       "      <td>168545</td>\n",
       "      <td>0.000000</td>\n",
       "      <td>5</td>\n",
       "      <td>1</td>\n",
       "      <td>0.095000</td>\n",
       "      <td>4</td>\n",
       "    </tr>\n",
       "    <tr>\n",
       "      <th>2809</th>\n",
       "      <td>0.557000</td>\n",
       "      <td>0.570000</td>\n",
       "      <td>118.024000</td>\n",
       "      <td>0.752000</td>\n",
       "      <td>0.008760</td>\n",
       "      <td>0.101000</td>\n",
       "      <td>-11.281000</td>\n",
       "      <td>269921</td>\n",
       "      <td>0.808000</td>\n",
       "      <td>1</td>\n",
       "      <td>1</td>\n",
       "      <td>0.039300</td>\n",
       "      <td>4</td>\n",
       "    </tr>\n",
       "  </tbody>\n",
       "</table>\n",
       "<p>1088 rows × 13 columns</p>\n",
       "</div>"
      ],
      "text/plain": [
       "      danceability    energy       tempo   valence  acousticness  liveness  \\\n",
       "3204      0.679051  0.408317  112.838667  0.508587      0.605713  0.440522   \n",
       "4515      0.660992  0.453603  115.168577  0.410297      0.010475  0.052763   \n",
       "2146      0.834000  0.494000  100.012000  0.560000      0.690000  0.124000   \n",
       "3105      0.715034  0.732236  103.841010  0.540457      0.334789  0.160740   \n",
       "881       0.868000  0.521000  113.993000  0.886000      0.281000  0.099200   \n",
       "...            ...       ...         ...       ...           ...       ...   \n",
       "1941      0.681000  0.879000  125.021000  0.668000      0.050800  0.044800   \n",
       "1041      0.850000  0.645000  104.022000  0.930000      0.358000  0.092500   \n",
       "1634      0.811000  0.652000  109.999000  0.738000      0.463000  0.066700   \n",
       "2462      0.703000  0.625000   89.954000  0.807000      0.370000  0.756000   \n",
       "2809      0.557000  0.570000  118.024000  0.752000      0.008760  0.101000   \n",
       "\n",
       "       loudness  duration_ms  instrumentalness  key  mode  speechiness  \\\n",
       "3204 -10.280025       105246          0.001171    7     0     0.039118   \n",
       "4515 -10.571981       330423          0.367465    1     1     0.085629   \n",
       "2146  -8.980000       187200          0.000000    5     0     0.192000   \n",
       "3105  -4.258162       145646          0.001252    7     1     0.061816   \n",
       "881   -6.902000       206316          0.000064    1     0     0.051200   \n",
       "...         ...          ...               ...  ...   ...          ...   \n",
       "1941  -1.864000       300262          0.000000    0     0     0.145000   \n",
       "1041  -6.302000       153877          0.000011   11     0     0.061100   \n",
       "1634  -2.798000       256694          0.001580    1     1     0.073600   \n",
       "2462  -9.779000       168545          0.000000    5     1     0.095000   \n",
       "2809 -11.281000       269921          0.808000    1     1     0.039300   \n",
       "\n",
       "      time_signature  \n",
       "3204               4  \n",
       "4515               4  \n",
       "2146               4  \n",
       "3105               4  \n",
       "881                4  \n",
       "...              ...  \n",
       "1941               4  \n",
       "1041               4  \n",
       "1634               4  \n",
       "2462               4  \n",
       "2809               4  \n",
       "\n",
       "[1088 rows x 13 columns]"
      ]
     },
     "execution_count": 53,
     "metadata": {},
     "output_type": "execute_result"
    }
   ],
   "source": [
    "X_test"
   ]
  },
  {
   "cell_type": "code",
   "execution_count": 54,
   "id": "a2e96062-e733-4b6e-a232-b763f60628d2",
   "metadata": {},
   "outputs": [],
   "source": [
    "sample_test_data = (\n",
    "    [-2.129593400176569,1.1849066767825516,1.7628064860351476,1.0124246820013965,-0.36700919693619644,-0.020404264959526158,0.7020515554689218,0.013825741747689578,-0.45627200709438126,1.593071043014108,1.068438486085228,-0.5379086043721599,3.116504948675754],\n",
    "    [0.7108480349279459,-1.1418847421296872,-0.8334101969015297,0.03941072989623649,-0.48706536800275385,-0.5366496288643218,-0.9247476589369766,0.17592872104642202,-0.4562809944176291,0.1821096748863234,1.068438486085228,-0.2923069712451033,-0.09386243625431016],\n",
    "    [0.5859019307444637,0.5313135815824847,-0.3889123416917233,-1.248112782485339,-0.6471402627581637,-0.6110633750127608,-0.027191045978984488,-0.2346780993589682,-0.4562911850644918,0.7464942221374372,-0.9359453192892858,0.26257079248639487,-0.09386243625431016],\n",
    "    [0.569242450186666,-0.27260592551359786,-0.5728040578044302,0.8699125375011455,0.5934401715962629,-0.44177210252506205,0.11809052185077308,-0.6349000750360065,-0.4562911850644918,1.310878769388551,-0.9359453192892858,0.141286035386614,-0.09386243625431016],\n",
    ")"
   ]
  },
  {
   "cell_type": "code",
   "execution_count": 55,
   "id": "fa9a4e99-1497-47b4-9cde-8e66ffec2939",
   "metadata": {},
   "outputs": [
    {
     "data": {
      "text/plain": [
       "[0.7108480349279459,\n",
       " -1.1418847421296872,\n",
       " -0.8334101969015297,\n",
       " 0.03941072989623649,\n",
       " -0.48706536800275385,\n",
       " -0.5366496288643218,\n",
       " -0.9247476589369766,\n",
       " 0.17592872104642202,\n",
       " -0.4562809944176291,\n",
       " 0.1821096748863234,\n",
       " 1.068438486085228,\n",
       " -0.2923069712451033,\n",
       " -0.09386243625431016]"
      ]
     },
     "execution_count": 55,
     "metadata": {},
     "output_type": "execute_result"
    }
   ],
   "source": [
    "sample_test_data[1]"
   ]
  },
  {
   "cell_type": "code",
   "execution_count": 56,
   "id": "9162dab1-892b-4531-8f44-fe88e36c49ab",
   "metadata": {},
   "outputs": [],
   "source": [
    "# type(X_train)\n",
    "\n",
    "check = [0.25081682, 0.23232518, 0, 0.45904428, 2306.2140201710604, 2567.4344222611962, 0.23232518, 154647.48299319728, 5147.019054330947, 0.4650071, 0.01960037, 20.187504983722118, 0]"
   ]
  },
  {
   "cell_type": "code",
   "execution_count": 57,
   "id": "79660121-9745-4d7a-b7d9-3bd46632ff70",
   "metadata": {},
   "outputs": [],
   "source": [
    "input_data = np.asarray(X_test.loc[4515,:])"
   ]
  },
  {
   "cell_type": "code",
   "execution_count": 58,
   "id": "f738ab31-1345-4776-9b82-6e34b5b8502c",
   "metadata": {},
   "outputs": [
    {
     "data": {
      "text/plain": [
       "array([ 6.60992097e-01,  4.53602966e-01,  1.15168577e+02,  4.10297045e-01,\n",
       "        1.04746097e-02,  5.27628008e-02, -1.05719808e+01,  3.30423000e+05,\n",
       "        3.67465225e-01,  1.00000000e+00,  1.00000000e+00,  8.56294555e-02,\n",
       "        4.00000000e+00])"
      ]
     },
     "execution_count": 58,
     "metadata": {},
     "output_type": "execute_result"
    }
   ],
   "source": [
    "input_data"
   ]
  },
  {
   "cell_type": "code",
   "execution_count": 59,
   "id": "39f819c2-e4fb-4661-9fa8-cb90b4f8ad2e",
   "metadata": {},
   "outputs": [
    {
     "data": {
      "text/plain": [
       "False"
      ]
     },
     "execution_count": 59,
     "metadata": {},
     "output_type": "execute_result"
    }
   ],
   "source": [
    "X_test.head()\n",
    "\n",
    "X_ = np.asarray(X_test)\n",
    "sample_test_data[3] in X_"
   ]
  },
  {
   "cell_type": "code",
   "execution_count": 76,
   "id": "9b34095a-0f9d-40b0-8859-a8de5536d0da",
   "metadata": {},
   "outputs": [
    {
     "data": {
      "text/plain": [
       "sklearn.ensemble._forest.RandomForestClassifier"
      ]
     },
     "execution_count": 76,
     "metadata": {},
     "output_type": "execute_result"
    }
   ],
   "source": [
    "type(model_1)"
   ]
  },
  {
   "cell_type": "code",
   "execution_count": 55,
   "id": "fd83c5a3-d875-485f-bca2-f5f85fe4358a",
   "metadata": {},
   "outputs": [
    {
     "data": {
      "text/plain": [
       "array([2.50816820e-01, 2.32325180e-01, 0.00000000e+00, 4.59044280e-01,\n",
       "       2.30621402e+03, 2.56743442e+03, 2.32325180e-01, 1.54647483e+05,\n",
       "       5.14701905e+03, 4.65007100e-01, 1.96003700e-02, 2.01875050e+01,\n",
       "       0.00000000e+00])"
      ]
     },
     "execution_count": 55,
     "metadata": {},
     "output_type": "execute_result"
    }
   ],
   "source": [
    "check_ = np.asarray(check)\n",
    "check_"
   ]
  },
  {
   "cell_type": "code",
   "execution_count": 77,
   "id": "c7a69f55-840a-4086-88e4-2d25617ad9f8",
   "metadata": {},
   "outputs": [],
   "source": [
    "reshape_check = check_.reshape(1, -1)\n",
    "\n",
    "pred_ = model_1.predict(reshape_check)"
   ]
  },
  {
   "cell_type": "code",
   "execution_count": 78,
   "id": "084f72a2-52c7-4074-971a-fbf0f7e90a85",
   "metadata": {},
   "outputs": [
    {
     "data": {
      "text/plain": [
       "array([0], dtype=int64)"
      ]
     },
     "execution_count": 78,
     "metadata": {},
     "output_type": "execute_result"
    }
   ],
   "source": [
    "pred_"
   ]
  },
  {
   "cell_type": "code",
   "execution_count": 79,
   "id": "e9259715-a378-4a3f-acbc-fe09f1724f39",
   "metadata": {},
   "outputs": [],
   "source": [
    "reshaped_input_data = input_data.reshape(1, -1) \n",
    "\n",
    "new_pred = model_1.predict(reshaped_input_data)"
   ]
  },
  {
   "cell_type": "code",
   "execution_count": 80,
   "id": "209125a8-b852-49b6-adde-c122af60678f",
   "metadata": {},
   "outputs": [
    {
     "data": {
      "text/plain": [
       "array([1], dtype=int64)"
      ]
     },
     "execution_count": 80,
     "metadata": {},
     "output_type": "execute_result"
    }
   ],
   "source": [
    "new_pred"
   ]
  },
  {
   "cell_type": "code",
   "execution_count": 81,
   "id": "1e8b3c1a-ab60-42cb-a656-ef8bc6ee3e78",
   "metadata": {},
   "outputs": [
    {
     "data": {
      "text/plain": [
       "3204    1\n",
       "4515    1\n",
       "2146    0\n",
       "3105    1\n",
       "881     1\n",
       "       ..\n",
       "1941    0\n",
       "1041    1\n",
       "1634    0\n",
       "2462    0\n",
       "2809    0\n",
       "Name: hit, Length: 1088, dtype: int64"
      ]
     },
     "execution_count": 81,
     "metadata": {},
     "output_type": "execute_result"
    }
   ],
   "source": [
    "y_test"
   ]
  },
  {
   "cell_type": "code",
   "execution_count": 82,
   "id": "f0a459ee-4681-47e1-ba3a-8aba6ef1a00e",
   "metadata": {},
   "outputs": [
    {
     "data": {
      "text/plain": [
       "array([1], dtype=int64)"
      ]
     },
     "execution_count": 82,
     "metadata": {},
     "output_type": "execute_result"
    }
   ],
   "source": [
    "new_pred"
   ]
  },
  {
   "cell_type": "code",
   "execution_count": 83,
   "id": "fdf02749-69d6-453f-bf65-de47b25388e0",
   "metadata": {},
   "outputs": [
    {
     "name": "stdout",
     "output_type": "stream",
     "text": [
      "[1] [[ 6.60992097e-01  4.53602966e-01  1.15168577e+02  4.10297045e-01\n",
      "   1.04746097e-02  5.27628008e-02 -1.05719808e+01  3.30423000e+05\n",
      "   3.67465225e-01  1.00000000e+00  1.00000000e+00  8.56294555e-02\n",
      "   4.00000000e+00]]\n"
     ]
    }
   ],
   "source": [
    "print(new_pred ,reshaped_input_data)"
   ]
  },
  {
   "cell_type": "code",
   "execution_count": 62,
   "id": "25cf66a9-fbc0-4252-99a7-e00bb215b505",
   "metadata": {},
   "outputs": [
    {
     "data": {
      "text/plain": [
       "array([ True])"
      ]
     },
     "execution_count": 62,
     "metadata": {},
     "output_type": "execute_result"
    }
   ],
   "source": [
    "y_test_list = list(y_test)\n",
    "\n",
    "\n",
    "\n",
    "new_pred == y_test_list[3]\n"
   ]
  },
  {
   "cell_type": "code",
   "execution_count": 69,
   "id": "3d00c86b-e231-4069-80f8-d82e5238ae1c",
   "metadata": {},
   "outputs": [],
   "source": [
    "import joblib"
   ]
  },
  {
   "cell_type": "code",
   "execution_count": 61,
   "id": "f82798a1-4220-428e-b04d-819507938384",
   "metadata": {},
   "outputs": [],
   "source": [
    "logistic_model = LogisticRegression()\n",
    "logistic_model.fit(X_train, y_train)\n",
    "y_pred1 = logistic_model.predict(X_test)\n",
    "\n",
    "knn_model = KNeighborsClassifier()\n",
    "knn_model.fit(X_train, y_train)\n",
    "y_pred2 = logistic_model.predict(X_test)\n",
    "\n",
    "\n",
    "DT_model = DecisionTreeClassifier()\n",
    "DT_model.fit(X_train, y_train)\n",
    "y_pred3 = DT_model.predict(X_test)\n",
    "\n",
    "\n",
    "LSVC_model = LinearSVC()\n",
    "LSVC_model.fit(X_train, y_train)\n",
    "y_pred4 = LSVC_model.predict(X_test)\n",
    "\n",
    "\n",
    "svc_model = SVC()  \n",
    "svc_model.fit(X_train, y_train)\n",
    "y_pred5 = svc_model.predict(X_test)\n",
    "\n",
    "\n",
    "# mplMLPClassifier()\n",
    "RFC_model = RandomForestClassifier()\n",
    "RFC_model.fit(X_train, y_train)\n",
    "y_pred6 = RFC_model.predict(X_test)\n",
    "\n",
    "\n",
    "GBC_model = GradientBoostingClassifier() #Gradient\n",
    "GBC_model.fit(X_train, y_train)\n",
    "y_pred7 = GBC_model.predict(X_test)"
   ]
  },
  {
   "cell_type": "code",
   "execution_count": 75,
   "id": "319691f8-0e2b-49f5-bba2-409016a4810a",
   "metadata": {},
   "outputs": [],
   "source": [
    "# Decision Tree: 80.06%\n",
    "# Random Forest: 88.24%\n",
    "# Gradient Boosting: 80.70%\n",
    "\n",
    "DT_model = DecisionTreeClassifier()\n",
    "DT_model.fit(X_train, y_train)\n",
    "y_pred_1 = DT_model.predict(X_test)\n",
    "\n",
    "RFC_model = RandomForestClassifier()\n",
    "RFC_model.fit(X_train, y_train)\n",
    "y_pred_2 = RFC_model.predict(X_test)\n",
    "\n",
    "GBC_model = GradientBoostingClassifier() #Gradient\n",
    "GBC_model.fit(X_train, y_train)\n",
    "y_pred_3 = GBC_model.predict(X_test)\n",
    "\n",
    "logistic_model = LogisticRegression()\n",
    "logistic_model.fit(X_train, y_train)\n",
    "y_pred_4 = logistic_model.predict(X_test)\n",
    "\n",
    "knn_model = KNeighborsClassifier()\n",
    "knn_model.fit(X_train, y_train)\n",
    "y_pred_5 = logistic_model.predict(X_test)\n",
    "\n",
    "LSVC_model = LinearSVC()\n",
    "LSVC_model.fit(X_train, y_train)\n",
    "y_pred_6 = LSVC_model.predict(X_test)\n",
    "\n",
    "svc_model = SVC()  \n",
    "svc_model.fit(X_train, y_train)\n",
    "y_pred_7 = svc_model.predict(X_test)"
   ]
  },
  {
   "cell_type": "code",
   "execution_count": 70,
   "id": "4cd990bf-aada-4394-85fd-d112ea5df532",
   "metadata": {},
   "outputs": [
    {
     "data": {
      "text/plain": [
       "['radomF_Mod.pkl']"
      ]
     },
     "execution_count": 70,
     "metadata": {},
     "output_type": "execute_result"
    }
   ],
   "source": [
    "# joblib.dump(value=RFC_model, filename='rfc_model.pkl')\n",
    "# joblib.dump(value=DT_model, filename='dt_model.pkl')\n",
    "# joblib.dump(value=GBC_model, filename='gbc_model.pkl')\n",
    "joblib.dump(value=model_1, filename='radomF_Mod.pkl')"
   ]
  },
  {
   "cell_type": "code",
   "execution_count": 62,
   "id": "cd2b8c67-4ad0-4f85-93d0-9f1affccab29",
   "metadata": {},
   "outputs": [
    {
     "name": "stdout",
     "output_type": "stream",
     "text": [
      "55.70%\n"
     ]
    }
   ],
   "source": [
    "print(f\"{(accuracy_score(y_test, y_pred5) *100):.2f}%\")"
   ]
  },
  {
   "cell_type": "code",
   "execution_count": 64,
   "id": "2de226fd-2db4-452e-853f-574f6fbaffdf",
   "metadata": {},
   "outputs": [],
   "source": [
    "from sklearn.metrics import precision_score, recall_score, f1_score, roc_auc_score"
   ]
  },
  {
   "cell_type": "code",
   "execution_count": 65,
   "id": "a8cfccb3-8c9e-49b6-9859-db8bcbae8778",
   "metadata": {},
   "outputs": [
    {
     "name": "stdout",
     "output_type": "stream",
     "text": [
      "Precision: 0.77\n",
      "f1: 0.82\n",
      "recall: 0.82\n",
      "roc_auc: 0.81\n",
      "Acc: 0.81\n"
     ]
    }
   ],
   "source": [
    "precision = precision_score(y_test, y_pred7)\n",
    "\n",
    "acc = accuracy_score(y_test, y_pred7)\n",
    "\n",
    "f1 = f1_score(y_test, y_pred7)\n",
    "\n",
    "recall = f1_score(y_test, y_pred7)\n",
    "\n",
    "roc_auc = roc_auc_score(y_test, y_pred7)\n",
    "\n",
    "\n",
    "print(f\"Precision: {precision:.2f}\")\n",
    "print(f\"f1: {f1:.2f}\")\n",
    "print(f\"recall: {recall:.2f}\")\n",
    "print(f\"roc_auc: {roc_auc:.2f}\")\n",
    "print(f\"Acc: {acc:.2f}\")"
   ]
  },
  {
   "cell_type": "code",
   "execution_count": null,
   "id": "a5e486e4-4300-4591-b428-f01de381fc8c",
   "metadata": {},
   "outputs": [],
   "source": [
    "# Decision Tree Classifier\n",
    "precision_DT = precision_score(y_test, y_pred_1)\n",
    "\n",
    "acc_DT = accuracy_score(y_test, y_pred_1)\n",
    "\n",
    "f1_DT = f1_score(y_test, y_pred_1)\n",
    "\n",
    "recall_DT = f1_score(y_test, y_pred_1)\n",
    "\n",
    "roc_auc_DT = roc_auc_score(y_test, y_pred_1)\n",
    "\n",
    "\n",
    "print(f\"Precision: {precision_DT:.2f}\")\n",
    "print(f\"f1: {f1_DT:.2f}\")\n",
    "print(f\"recall: {recall_DT:.2f}\")\n",
    "print(f\"roc_auc: {roc_auc_DT:.2f}\")\n",
    "print(f\"Acc: {acc_DT:.2f}\")\n",
    "\n",
    "print(\"##############################\")\n",
    "\n",
    "# For Gradient Boosting Classifier\n",
    "precision_G = precision_score(y_test, y_pred_3)\n",
    "\n",
    "acc_G = accuracy_score(y_test, y_pred_3)\n",
    "\n",
    "f1_G = f1_score(y_test, y_pred_3)\n",
    "\n",
    "recall_G = f1_score(y_test, y_pred_3)\n",
    "\n",
    "roc_auc_G = roc_auc_score(y_test, y_pred_3)\n",
    "\n",
    "\n",
    "print(f\"Precision: {precision_G:.2f}\")\n",
    "print(f\"f1: {f1_G:.2f}\")\n",
    "print(f\"recall: {recall_G:.2f}\")\n",
    "print(f\"roc_auc: {roc_auc_G:.2f}\")\n",
    "print(f\"Acc: {acc_G:.2f}\")"
   ]
  },
  {
   "cell_type": "code",
   "execution_count": 71,
   "id": "038e4af9-f8fa-45d5-868b-f2e956d29d21",
   "metadata": {},
   "outputs": [
    {
     "data": {
      "text/html": [
       "<div>\n",
       "<style scoped>\n",
       "    .dataframe tbody tr th:only-of-type {\n",
       "        vertical-align: middle;\n",
       "    }\n",
       "\n",
       "    .dataframe tbody tr th {\n",
       "        vertical-align: top;\n",
       "    }\n",
       "\n",
       "    .dataframe thead th {\n",
       "        text-align: right;\n",
       "    }\n",
       "</style>\n",
       "<table border=\"1\" class=\"dataframe\">\n",
       "  <thead>\n",
       "    <tr style=\"text-align: right;\">\n",
       "      <th></th>\n",
       "      <th>danceability</th>\n",
       "      <th>energy</th>\n",
       "      <th>tempo</th>\n",
       "      <th>valence</th>\n",
       "      <th>acousticness</th>\n",
       "      <th>liveness</th>\n",
       "      <th>loudness</th>\n",
       "      <th>duration_ms</th>\n",
       "      <th>instrumentalness</th>\n",
       "      <th>key</th>\n",
       "      <th>mode</th>\n",
       "      <th>speechiness</th>\n",
       "      <th>time_signature</th>\n",
       "    </tr>\n",
       "  </thead>\n",
       "  <tbody>\n",
       "    <tr>\n",
       "      <th>1643</th>\n",
       "      <td>0.842000</td>\n",
       "      <td>0.446000</td>\n",
       "      <td>110.106000</td>\n",
       "      <td>0.676000</td>\n",
       "      <td>0.672000</td>\n",
       "      <td>0.111000</td>\n",
       "      <td>-9.910000</td>\n",
       "      <td>177373</td>\n",
       "      <td>0.039600</td>\n",
       "      <td>5</td>\n",
       "      <td>0</td>\n",
       "      <td>0.069500</td>\n",
       "      <td>4</td>\n",
       "    </tr>\n",
       "    <tr>\n",
       "      <th>596</th>\n",
       "      <td>0.805000</td>\n",
       "      <td>0.666000</td>\n",
       "      <td>101.012000</td>\n",
       "      <td>0.512000</td>\n",
       "      <td>0.341000</td>\n",
       "      <td>0.185000</td>\n",
       "      <td>-4.487000</td>\n",
       "      <td>154455</td>\n",
       "      <td>0.000033</td>\n",
       "      <td>6</td>\n",
       "      <td>1</td>\n",
       "      <td>0.035700</td>\n",
       "      <td>4</td>\n",
       "    </tr>\n",
       "    <tr>\n",
       "      <th>4647</th>\n",
       "      <td>0.795292</td>\n",
       "      <td>0.641847</td>\n",
       "      <td>103.685901</td>\n",
       "      <td>0.513818</td>\n",
       "      <td>0.264293</td>\n",
       "      <td>0.080526</td>\n",
       "      <td>-7.076012</td>\n",
       "      <td>178225</td>\n",
       "      <td>0.006648</td>\n",
       "      <td>1</td>\n",
       "      <td>1</td>\n",
       "      <td>0.051368</td>\n",
       "      <td>4</td>\n",
       "    </tr>\n",
       "    <tr>\n",
       "      <th>1615</th>\n",
       "      <td>0.505000</td>\n",
       "      <td>0.548000</td>\n",
       "      <td>136.352000</td>\n",
       "      <td>0.515000</td>\n",
       "      <td>0.757000</td>\n",
       "      <td>0.198000</td>\n",
       "      <td>-6.508000</td>\n",
       "      <td>174118</td>\n",
       "      <td>0.000000</td>\n",
       "      <td>1</td>\n",
       "      <td>0</td>\n",
       "      <td>0.398000</td>\n",
       "      <td>5</td>\n",
       "    </tr>\n",
       "    <tr>\n",
       "      <th>2687</th>\n",
       "      <td>0.568000</td>\n",
       "      <td>0.470000</td>\n",
       "      <td>125.119000</td>\n",
       "      <td>0.777000</td>\n",
       "      <td>0.194000</td>\n",
       "      <td>0.127000</td>\n",
       "      <td>-9.211000</td>\n",
       "      <td>165600</td>\n",
       "      <td>0.000003</td>\n",
       "      <td>0</td>\n",
       "      <td>1</td>\n",
       "      <td>0.111000</td>\n",
       "      <td>5</td>\n",
       "    </tr>\n",
       "  </tbody>\n",
       "</table>\n",
       "</div>"
      ],
      "text/plain": [
       "      danceability    energy       tempo   valence  acousticness  liveness  \\\n",
       "1643      0.842000  0.446000  110.106000  0.676000      0.672000  0.111000   \n",
       "596       0.805000  0.666000  101.012000  0.512000      0.341000  0.185000   \n",
       "4647      0.795292  0.641847  103.685901  0.513818      0.264293  0.080526   \n",
       "1615      0.505000  0.548000  136.352000  0.515000      0.757000  0.198000   \n",
       "2687      0.568000  0.470000  125.119000  0.777000      0.194000  0.127000   \n",
       "\n",
       "      loudness  duration_ms  instrumentalness  key  mode  speechiness  \\\n",
       "1643 -9.910000       177373          0.039600    5     0     0.069500   \n",
       "596  -4.487000       154455          0.000033    6     1     0.035700   \n",
       "4647 -7.076012       178225          0.006648    1     1     0.051368   \n",
       "1615 -6.508000       174118          0.000000    1     0     0.398000   \n",
       "2687 -9.211000       165600          0.000003    0     1     0.111000   \n",
       "\n",
       "      time_signature  \n",
       "1643               4  \n",
       "596                4  \n",
       "4647               4  \n",
       "1615               5  \n",
       "2687               5  "
      ]
     },
     "execution_count": 71,
     "metadata": {},
     "output_type": "execute_result"
    }
   ],
   "source": [
    "X_train.head()"
   ]
  },
  {
   "cell_type": "code",
   "execution_count": 741,
   "id": "c5f8cf6d-14ee-4187-bf97-fd9cefd4923c",
   "metadata": {},
   "outputs": [
    {
     "data": {
      "text/plain": [
       "Index(['danceability', 'energy', 'tempo', 'valence', 'acousticness',\n",
       "       'liveness', 'loudness', 'duration_ms', 'instrumentalness', 'key',\n",
       "       'mode', 'speechiness', 'time_signature'],\n",
       "      dtype='object')"
      ]
     },
     "execution_count": 741,
     "metadata": {},
     "output_type": "execute_result"
    }
   ],
   "source": [
    "# ['danceability', 'energy', 'tempo', 'valence', 'acousticness',\n",
    "#        'liveness', 'loudness', 'duration_ms', 'instrumentalness', 'key',\n",
    "#        'mode', 'speechiness', 'time_signature']\n",
    "\n",
    "X_test.columns"
   ]
  },
  {
   "cell_type": "code",
   "execution_count": 87,
   "id": "1f8140cb-b853-4201-8191-08d498710b9a",
   "metadata": {},
   "outputs": [],
   "source": [
    "X_test['hit'] = y_test"
   ]
  },
  {
   "cell_type": "code",
   "execution_count": 94,
   "id": "f2d832f5-78e9-4c4f-a0fb-a22cfd987b16",
   "metadata": {},
   "outputs": [
    {
     "data": {
      "text/html": [
       "<div>\n",
       "<style scoped>\n",
       "    .dataframe tbody tr th:only-of-type {\n",
       "        vertical-align: middle;\n",
       "    }\n",
       "\n",
       "    .dataframe tbody tr th {\n",
       "        vertical-align: top;\n",
       "    }\n",
       "\n",
       "    .dataframe thead th {\n",
       "        text-align: right;\n",
       "    }\n",
       "</style>\n",
       "<table border=\"1\" class=\"dataframe\">\n",
       "  <thead>\n",
       "    <tr style=\"text-align: right;\">\n",
       "      <th></th>\n",
       "      <th>danceability</th>\n",
       "      <th>energy</th>\n",
       "      <th>tempo</th>\n",
       "      <th>valence</th>\n",
       "      <th>acousticness</th>\n",
       "      <th>liveness</th>\n",
       "      <th>loudness</th>\n",
       "      <th>duration_ms</th>\n",
       "      <th>instrumentalness</th>\n",
       "      <th>key</th>\n",
       "      <th>mode</th>\n",
       "      <th>speechiness</th>\n",
       "      <th>time_signature</th>\n",
       "      <th>hit</th>\n",
       "    </tr>\n",
       "  </thead>\n",
       "  <tbody>\n",
       "    <tr>\n",
       "      <th>3204</th>\n",
       "      <td>0.679051</td>\n",
       "      <td>0.408317</td>\n",
       "      <td>112.838667</td>\n",
       "      <td>0.508587</td>\n",
       "      <td>0.605713</td>\n",
       "      <td>0.440522</td>\n",
       "      <td>-10.280025</td>\n",
       "      <td>105246</td>\n",
       "      <td>0.001171</td>\n",
       "      <td>7</td>\n",
       "      <td>0</td>\n",
       "      <td>0.039118</td>\n",
       "      <td>4</td>\n",
       "      <td>1</td>\n",
       "    </tr>\n",
       "    <tr>\n",
       "      <th>4515</th>\n",
       "      <td>0.660992</td>\n",
       "      <td>0.453603</td>\n",
       "      <td>115.168577</td>\n",
       "      <td>0.410297</td>\n",
       "      <td>0.010475</td>\n",
       "      <td>0.052763</td>\n",
       "      <td>-10.571981</td>\n",
       "      <td>330423</td>\n",
       "      <td>0.367465</td>\n",
       "      <td>1</td>\n",
       "      <td>1</td>\n",
       "      <td>0.085629</td>\n",
       "      <td>4</td>\n",
       "      <td>1</td>\n",
       "    </tr>\n",
       "    <tr>\n",
       "      <th>2146</th>\n",
       "      <td>0.834000</td>\n",
       "      <td>0.494000</td>\n",
       "      <td>100.012000</td>\n",
       "      <td>0.560000</td>\n",
       "      <td>0.690000</td>\n",
       "      <td>0.124000</td>\n",
       "      <td>-8.980000</td>\n",
       "      <td>187200</td>\n",
       "      <td>0.000000</td>\n",
       "      <td>5</td>\n",
       "      <td>0</td>\n",
       "      <td>0.192000</td>\n",
       "      <td>4</td>\n",
       "      <td>0</td>\n",
       "    </tr>\n",
       "    <tr>\n",
       "      <th>3105</th>\n",
       "      <td>0.715034</td>\n",
       "      <td>0.732236</td>\n",
       "      <td>103.841010</td>\n",
       "      <td>0.540457</td>\n",
       "      <td>0.334789</td>\n",
       "      <td>0.160740</td>\n",
       "      <td>-4.258162</td>\n",
       "      <td>145646</td>\n",
       "      <td>0.001252</td>\n",
       "      <td>7</td>\n",
       "      <td>1</td>\n",
       "      <td>0.061816</td>\n",
       "      <td>4</td>\n",
       "      <td>1</td>\n",
       "    </tr>\n",
       "    <tr>\n",
       "      <th>881</th>\n",
       "      <td>0.868000</td>\n",
       "      <td>0.521000</td>\n",
       "      <td>113.993000</td>\n",
       "      <td>0.886000</td>\n",
       "      <td>0.281000</td>\n",
       "      <td>0.099200</td>\n",
       "      <td>-6.902000</td>\n",
       "      <td>206316</td>\n",
       "      <td>0.000064</td>\n",
       "      <td>1</td>\n",
       "      <td>0</td>\n",
       "      <td>0.051200</td>\n",
       "      <td>4</td>\n",
       "      <td>1</td>\n",
       "    </tr>\n",
       "    <tr>\n",
       "      <th>2858</th>\n",
       "      <td>0.875000</td>\n",
       "      <td>0.810000</td>\n",
       "      <td>111.965000</td>\n",
       "      <td>0.782000</td>\n",
       "      <td>0.007000</td>\n",
       "      <td>0.068100</td>\n",
       "      <td>-7.175000</td>\n",
       "      <td>155636</td>\n",
       "      <td>0.000000</td>\n",
       "      <td>3</td>\n",
       "      <td>0</td>\n",
       "      <td>0.108000</td>\n",
       "      <td>4</td>\n",
       "      <td>0</td>\n",
       "    </tr>\n",
       "    <tr>\n",
       "      <th>230</th>\n",
       "      <td>0.777000</td>\n",
       "      <td>0.647000</td>\n",
       "      <td>112.951000</td>\n",
       "      <td>0.431000</td>\n",
       "      <td>0.487000</td>\n",
       "      <td>0.097600</td>\n",
       "      <td>-9.612000</td>\n",
       "      <td>151118</td>\n",
       "      <td>0.079000</td>\n",
       "      <td>7</td>\n",
       "      <td>0</td>\n",
       "      <td>0.048600</td>\n",
       "      <td>4</td>\n",
       "      <td>0</td>\n",
       "    </tr>\n",
       "    <tr>\n",
       "      <th>4952</th>\n",
       "      <td>0.834811</td>\n",
       "      <td>0.465872</td>\n",
       "      <td>93.512675</td>\n",
       "      <td>0.635240</td>\n",
       "      <td>0.502180</td>\n",
       "      <td>0.157632</td>\n",
       "      <td>-8.023703</td>\n",
       "      <td>224054</td>\n",
       "      <td>0.000053</td>\n",
       "      <td>1</td>\n",
       "      <td>0</td>\n",
       "      <td>0.320039</td>\n",
       "      <td>4</td>\n",
       "      <td>1</td>\n",
       "    </tr>\n",
       "    <tr>\n",
       "      <th>5013</th>\n",
       "      <td>0.878727</td>\n",
       "      <td>0.697167</td>\n",
       "      <td>112.361822</td>\n",
       "      <td>0.853611</td>\n",
       "      <td>0.219466</td>\n",
       "      <td>0.161301</td>\n",
       "      <td>-5.971610</td>\n",
       "      <td>182480</td>\n",
       "      <td>0.001331</td>\n",
       "      <td>4</td>\n",
       "      <td>0</td>\n",
       "      <td>0.102996</td>\n",
       "      <td>4</td>\n",
       "      <td>1</td>\n",
       "    </tr>\n",
       "    <tr>\n",
       "      <th>79</th>\n",
       "      <td>0.551000</td>\n",
       "      <td>0.638000</td>\n",
       "      <td>85.443000</td>\n",
       "      <td>0.378000</td>\n",
       "      <td>0.408000</td>\n",
       "      <td>0.660000</td>\n",
       "      <td>-12.126000</td>\n",
       "      <td>148663</td>\n",
       "      <td>0.000002</td>\n",
       "      <td>11</td>\n",
       "      <td>1</td>\n",
       "      <td>0.305000</td>\n",
       "      <td>4</td>\n",
       "      <td>1</td>\n",
       "    </tr>\n",
       "    <tr>\n",
       "      <th>1786</th>\n",
       "      <td>0.570000</td>\n",
       "      <td>0.597000</td>\n",
       "      <td>201.954000</td>\n",
       "      <td>0.265000</td>\n",
       "      <td>0.519000</td>\n",
       "      <td>0.239000</td>\n",
       "      <td>-7.986000</td>\n",
       "      <td>223504</td>\n",
       "      <td>0.000194</td>\n",
       "      <td>0</td>\n",
       "      <td>0</td>\n",
       "      <td>0.175000</td>\n",
       "      <td>4</td>\n",
       "      <td>0</td>\n",
       "    </tr>\n",
       "    <tr>\n",
       "      <th>1743</th>\n",
       "      <td>0.651000</td>\n",
       "      <td>0.634000</td>\n",
       "      <td>170.047000</td>\n",
       "      <td>0.956000</td>\n",
       "      <td>0.273000</td>\n",
       "      <td>0.183000</td>\n",
       "      <td>-9.846000</td>\n",
       "      <td>200472</td>\n",
       "      <td>0.957000</td>\n",
       "      <td>4</td>\n",
       "      <td>0</td>\n",
       "      <td>0.049000</td>\n",
       "      <td>4</td>\n",
       "      <td>0</td>\n",
       "    </tr>\n",
       "    <tr>\n",
       "      <th>1103</th>\n",
       "      <td>0.686000</td>\n",
       "      <td>0.488000</td>\n",
       "      <td>100.963000</td>\n",
       "      <td>0.309000</td>\n",
       "      <td>0.549000</td>\n",
       "      <td>0.113000</td>\n",
       "      <td>-11.864000</td>\n",
       "      <td>173465</td>\n",
       "      <td>0.000007</td>\n",
       "      <td>6</td>\n",
       "      <td>1</td>\n",
       "      <td>0.075200</td>\n",
       "      <td>4</td>\n",
       "      <td>0</td>\n",
       "    </tr>\n",
       "    <tr>\n",
       "      <th>5106</th>\n",
       "      <td>0.830141</td>\n",
       "      <td>0.720040</td>\n",
       "      <td>110.778975</td>\n",
       "      <td>0.562576</td>\n",
       "      <td>0.354374</td>\n",
       "      <td>0.091984</td>\n",
       "      <td>-3.961242</td>\n",
       "      <td>200402</td>\n",
       "      <td>0.000867</td>\n",
       "      <td>7</td>\n",
       "      <td>0</td>\n",
       "      <td>0.157681</td>\n",
       "      <td>4</td>\n",
       "      <td>1</td>\n",
       "    </tr>\n",
       "    <tr>\n",
       "      <th>3781</th>\n",
       "      <td>0.721465</td>\n",
       "      <td>0.558138</td>\n",
       "      <td>112.285821</td>\n",
       "      <td>0.742048</td>\n",
       "      <td>0.518784</td>\n",
       "      <td>0.077874</td>\n",
       "      <td>-6.286796</td>\n",
       "      <td>188536</td>\n",
       "      <td>0.033605</td>\n",
       "      <td>5</td>\n",
       "      <td>0</td>\n",
       "      <td>0.104166</td>\n",
       "      <td>3</td>\n",
       "      <td>1</td>\n",
       "    </tr>\n",
       "    <tr>\n",
       "      <th>2951</th>\n",
       "      <td>0.719822</td>\n",
       "      <td>0.631421</td>\n",
       "      <td>189.800794</td>\n",
       "      <td>0.784744</td>\n",
       "      <td>0.569636</td>\n",
       "      <td>0.110334</td>\n",
       "      <td>-5.217905</td>\n",
       "      <td>216002</td>\n",
       "      <td>0.000005</td>\n",
       "      <td>8</td>\n",
       "      <td>1</td>\n",
       "      <td>0.211667</td>\n",
       "      <td>4</td>\n",
       "      <td>1</td>\n",
       "    </tr>\n",
       "    <tr>\n",
       "      <th>2244</th>\n",
       "      <td>0.832000</td>\n",
       "      <td>0.591000</td>\n",
       "      <td>94.985000</td>\n",
       "      <td>0.830000</td>\n",
       "      <td>0.484000</td>\n",
       "      <td>0.158000</td>\n",
       "      <td>-7.200000</td>\n",
       "      <td>174315</td>\n",
       "      <td>0.000101</td>\n",
       "      <td>8</td>\n",
       "      <td>0</td>\n",
       "      <td>0.108000</td>\n",
       "      <td>4</td>\n",
       "      <td>0</td>\n",
       "    </tr>\n",
       "    <tr>\n",
       "      <th>168</th>\n",
       "      <td>0.773000</td>\n",
       "      <td>0.725000</td>\n",
       "      <td>91.888000</td>\n",
       "      <td>0.548000</td>\n",
       "      <td>0.045400</td>\n",
       "      <td>0.087500</td>\n",
       "      <td>-3.868000</td>\n",
       "      <td>147472</td>\n",
       "      <td>0.007230</td>\n",
       "      <td>1</td>\n",
       "      <td>0</td>\n",
       "      <td>0.166000</td>\n",
       "      <td>4</td>\n",
       "      <td>0</td>\n",
       "    </tr>\n",
       "    <tr>\n",
       "      <th>3803</th>\n",
       "      <td>0.726389</td>\n",
       "      <td>0.404072</td>\n",
       "      <td>100.620563</td>\n",
       "      <td>0.413604</td>\n",
       "      <td>0.696883</td>\n",
       "      <td>0.101011</td>\n",
       "      <td>-8.822242</td>\n",
       "      <td>209376</td>\n",
       "      <td>0.069517</td>\n",
       "      <td>6</td>\n",
       "      <td>1</td>\n",
       "      <td>0.032435</td>\n",
       "      <td>4</td>\n",
       "      <td>1</td>\n",
       "    </tr>\n",
       "    <tr>\n",
       "      <th>5218</th>\n",
       "      <td>0.615767</td>\n",
       "      <td>0.551653</td>\n",
       "      <td>104.906063</td>\n",
       "      <td>0.312876</td>\n",
       "      <td>0.023999</td>\n",
       "      <td>0.117430</td>\n",
       "      <td>-11.171424</td>\n",
       "      <td>333193</td>\n",
       "      <td>0.018531</td>\n",
       "      <td>0</td>\n",
       "      <td>1</td>\n",
       "      <td>0.072063</td>\n",
       "      <td>4</td>\n",
       "      <td>1</td>\n",
       "    </tr>\n",
       "  </tbody>\n",
       "</table>\n",
       "</div>"
      ],
      "text/plain": [
       "      danceability    energy       tempo   valence  acousticness  liveness  \\\n",
       "3204      0.679051  0.408317  112.838667  0.508587      0.605713  0.440522   \n",
       "4515      0.660992  0.453603  115.168577  0.410297      0.010475  0.052763   \n",
       "2146      0.834000  0.494000  100.012000  0.560000      0.690000  0.124000   \n",
       "3105      0.715034  0.732236  103.841010  0.540457      0.334789  0.160740   \n",
       "881       0.868000  0.521000  113.993000  0.886000      0.281000  0.099200   \n",
       "2858      0.875000  0.810000  111.965000  0.782000      0.007000  0.068100   \n",
       "230       0.777000  0.647000  112.951000  0.431000      0.487000  0.097600   \n",
       "4952      0.834811  0.465872   93.512675  0.635240      0.502180  0.157632   \n",
       "5013      0.878727  0.697167  112.361822  0.853611      0.219466  0.161301   \n",
       "79        0.551000  0.638000   85.443000  0.378000      0.408000  0.660000   \n",
       "1786      0.570000  0.597000  201.954000  0.265000      0.519000  0.239000   \n",
       "1743      0.651000  0.634000  170.047000  0.956000      0.273000  0.183000   \n",
       "1103      0.686000  0.488000  100.963000  0.309000      0.549000  0.113000   \n",
       "5106      0.830141  0.720040  110.778975  0.562576      0.354374  0.091984   \n",
       "3781      0.721465  0.558138  112.285821  0.742048      0.518784  0.077874   \n",
       "2951      0.719822  0.631421  189.800794  0.784744      0.569636  0.110334   \n",
       "2244      0.832000  0.591000   94.985000  0.830000      0.484000  0.158000   \n",
       "168       0.773000  0.725000   91.888000  0.548000      0.045400  0.087500   \n",
       "3803      0.726389  0.404072  100.620563  0.413604      0.696883  0.101011   \n",
       "5218      0.615767  0.551653  104.906063  0.312876      0.023999  0.117430   \n",
       "\n",
       "       loudness  duration_ms  instrumentalness  key  mode  speechiness  \\\n",
       "3204 -10.280025       105246          0.001171    7     0     0.039118   \n",
       "4515 -10.571981       330423          0.367465    1     1     0.085629   \n",
       "2146  -8.980000       187200          0.000000    5     0     0.192000   \n",
       "3105  -4.258162       145646          0.001252    7     1     0.061816   \n",
       "881   -6.902000       206316          0.000064    1     0     0.051200   \n",
       "2858  -7.175000       155636          0.000000    3     0     0.108000   \n",
       "230   -9.612000       151118          0.079000    7     0     0.048600   \n",
       "4952  -8.023703       224054          0.000053    1     0     0.320039   \n",
       "5013  -5.971610       182480          0.001331    4     0     0.102996   \n",
       "79   -12.126000       148663          0.000002   11     1     0.305000   \n",
       "1786  -7.986000       223504          0.000194    0     0     0.175000   \n",
       "1743  -9.846000       200472          0.957000    4     0     0.049000   \n",
       "1103 -11.864000       173465          0.000007    6     1     0.075200   \n",
       "5106  -3.961242       200402          0.000867    7     0     0.157681   \n",
       "3781  -6.286796       188536          0.033605    5     0     0.104166   \n",
       "2951  -5.217905       216002          0.000005    8     1     0.211667   \n",
       "2244  -7.200000       174315          0.000101    8     0     0.108000   \n",
       "168   -3.868000       147472          0.007230    1     0     0.166000   \n",
       "3803  -8.822242       209376          0.069517    6     1     0.032435   \n",
       "5218 -11.171424       333193          0.018531    0     1     0.072063   \n",
       "\n",
       "      time_signature  hit  \n",
       "3204               4    1  \n",
       "4515               4    1  \n",
       "2146               4    0  \n",
       "3105               4    1  \n",
       "881                4    1  \n",
       "2858               4    0  \n",
       "230                4    0  \n",
       "4952               4    1  \n",
       "5013               4    1  \n",
       "79                 4    1  \n",
       "1786               4    0  \n",
       "1743               4    0  \n",
       "1103               4    0  \n",
       "5106               4    1  \n",
       "3781               3    1  \n",
       "2951               4    1  \n",
       "2244               4    0  \n",
       "168                4    0  \n",
       "3803               4    1  \n",
       "5218               4    1  "
      ]
     },
     "execution_count": 94,
     "metadata": {},
     "output_type": "execute_result"
    }
   ],
   "source": [
    "X_test.head(20)"
   ]
  },
  {
   "cell_type": "code",
   "execution_count": 95,
   "id": "8efbd2db-fafa-48e7-8e03-173968e40fe7",
   "metadata": {},
   "outputs": [
    {
     "data": {
      "text/plain": [
       "array([0], dtype=int64)"
      ]
     },
     "execution_count": 95,
     "metadata": {},
     "output_type": "execute_result"
    }
   ],
   "source": [
    "test = [0.773000,0.725000,91.888000,0.548000,0.045400,0.087500,-3.868000,147472,0.007230,1,0,0.166000,4]\n",
    "\n",
    "test = np.asarray(test)\n",
    "\n",
    "reshape_test = test.reshape(1, -1)\n",
    "\n",
    "pred = model_1.predict(reshape_test)\n",
    "pred"
   ]
  },
  {
   "cell_type": "code",
   "execution_count": 91,
   "id": "da6073a6-3929-40f6-bcd7-beaa260fc916",
   "metadata": {},
   "outputs": [
    {
     "data": {
      "text/html": [
       "<style>#sk-container-id-2 {color: black;background-color: white;}#sk-container-id-2 pre{padding: 0;}#sk-container-id-2 div.sk-toggleable {background-color: white;}#sk-container-id-2 label.sk-toggleable__label {cursor: pointer;display: block;width: 100%;margin-bottom: 0;padding: 0.3em;box-sizing: border-box;text-align: center;}#sk-container-id-2 label.sk-toggleable__label-arrow:before {content: \"▸\";float: left;margin-right: 0.25em;color: #696969;}#sk-container-id-2 label.sk-toggleable__label-arrow:hover:before {color: black;}#sk-container-id-2 div.sk-estimator:hover label.sk-toggleable__label-arrow:before {color: black;}#sk-container-id-2 div.sk-toggleable__content {max-height: 0;max-width: 0;overflow: hidden;text-align: left;background-color: #f0f8ff;}#sk-container-id-2 div.sk-toggleable__content pre {margin: 0.2em;color: black;border-radius: 0.25em;background-color: #f0f8ff;}#sk-container-id-2 input.sk-toggleable__control:checked~div.sk-toggleable__content {max-height: 200px;max-width: 100%;overflow: auto;}#sk-container-id-2 input.sk-toggleable__control:checked~label.sk-toggleable__label-arrow:before {content: \"▾\";}#sk-container-id-2 div.sk-estimator input.sk-toggleable__control:checked~label.sk-toggleable__label {background-color: #d4ebff;}#sk-container-id-2 div.sk-label input.sk-toggleable__control:checked~label.sk-toggleable__label {background-color: #d4ebff;}#sk-container-id-2 input.sk-hidden--visually {border: 0;clip: rect(1px 1px 1px 1px);clip: rect(1px, 1px, 1px, 1px);height: 1px;margin: -1px;overflow: hidden;padding: 0;position: absolute;width: 1px;}#sk-container-id-2 div.sk-estimator {font-family: monospace;background-color: #f0f8ff;border: 1px dotted black;border-radius: 0.25em;box-sizing: border-box;margin-bottom: 0.5em;}#sk-container-id-2 div.sk-estimator:hover {background-color: #d4ebff;}#sk-container-id-2 div.sk-parallel-item::after {content: \"\";width: 100%;border-bottom: 1px solid gray;flex-grow: 1;}#sk-container-id-2 div.sk-label:hover label.sk-toggleable__label {background-color: #d4ebff;}#sk-container-id-2 div.sk-serial::before {content: \"\";position: absolute;border-left: 1px solid gray;box-sizing: border-box;top: 0;bottom: 0;left: 50%;z-index: 0;}#sk-container-id-2 div.sk-serial {display: flex;flex-direction: column;align-items: center;background-color: white;padding-right: 0.2em;padding-left: 0.2em;position: relative;}#sk-container-id-2 div.sk-item {position: relative;z-index: 1;}#sk-container-id-2 div.sk-parallel {display: flex;align-items: stretch;justify-content: center;background-color: white;position: relative;}#sk-container-id-2 div.sk-item::before, #sk-container-id-2 div.sk-parallel-item::before {content: \"\";position: absolute;border-left: 1px solid gray;box-sizing: border-box;top: 0;bottom: 0;left: 50%;z-index: -1;}#sk-container-id-2 div.sk-parallel-item {display: flex;flex-direction: column;z-index: 1;position: relative;background-color: white;}#sk-container-id-2 div.sk-parallel-item:first-child::after {align-self: flex-end;width: 50%;}#sk-container-id-2 div.sk-parallel-item:last-child::after {align-self: flex-start;width: 50%;}#sk-container-id-2 div.sk-parallel-item:only-child::after {width: 0;}#sk-container-id-2 div.sk-dashed-wrapped {border: 1px dashed gray;margin: 0 0.4em 0.5em 0.4em;box-sizing: border-box;padding-bottom: 0.4em;background-color: white;}#sk-container-id-2 div.sk-label label {font-family: monospace;font-weight: bold;display: inline-block;line-height: 1.2em;}#sk-container-id-2 div.sk-label-container {text-align: center;}#sk-container-id-2 div.sk-container {/* jupyter's `normalize.less` sets `[hidden] { display: none; }` but bootstrap.min.css set `[hidden] { display: none !important; }` so we also need the `!important` here to be able to override the default hidden behavior on the sphinx rendered scikit-learn.org. See: https://github.com/scikit-learn/scikit-learn/issues/21755 */display: inline-block !important;position: relative;}#sk-container-id-2 div.sk-text-repr-fallback {display: none;}</style><div id=\"sk-container-id-2\" class=\"sk-top-container\"><div class=\"sk-text-repr-fallback\"><pre>RandomForestClassifier()</pre><b>In a Jupyter environment, please rerun this cell to show the HTML representation or trust the notebook. <br />On GitHub, the HTML representation is unable to render, please try loading this page with nbviewer.org.</b></div><div class=\"sk-container\" hidden><div class=\"sk-item\"><div class=\"sk-estimator sk-toggleable\"><input class=\"sk-toggleable__control sk-hidden--visually\" id=\"sk-estimator-id-2\" type=\"checkbox\" checked><label for=\"sk-estimator-id-2\" class=\"sk-toggleable__label sk-toggleable__label-arrow\">RandomForestClassifier</label><div class=\"sk-toggleable__content\"><pre>RandomForestClassifier()</pre></div></div></div></div></div>"
      ],
      "text/plain": [
       "RandomForestClassifier()"
      ]
     },
     "execution_count": 91,
     "metadata": {},
     "output_type": "execute_result"
    }
   ],
   "source": [
    "model_1"
   ]
  },
  {
   "cell_type": "code",
   "execution_count": 96,
   "id": "4e724e1b-dec8-4044-af7d-8e6e79c71d80",
   "metadata": {},
   "outputs": [],
   "source": [
    "X_test.to_csv('Test_datasets.csv')"
   ]
  },
  {
   "cell_type": "code",
   "execution_count": null,
   "id": "82c1c5df-7f25-43d5-97dc-606b6d6679d6",
   "metadata": {},
   "outputs": [],
   "source": []
  }
 ],
 "metadata": {
  "kernelspec": {
   "display_name": "Python 3 (ipykernel)",
   "language": "python",
   "name": "python3"
  },
  "language_info": {
   "codemirror_mode": {
    "name": "ipython",
    "version": 3
   },
   "file_extension": ".py",
   "mimetype": "text/x-python",
   "name": "python",
   "nbconvert_exporter": "python",
   "pygments_lexer": "ipython3",
   "version": "3.10.7"
  }
 },
 "nbformat": 4,
 "nbformat_minor": 5
}
